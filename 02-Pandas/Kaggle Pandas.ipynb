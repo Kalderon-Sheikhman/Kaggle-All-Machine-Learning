{
 "cells": [
  {
   "cell_type": "markdown",
   "id": "e6762a56",
   "metadata": {},
   "source": [
    "# CREATING READING AND WRITING WITH PANDAS"
   ]
  },
  {
   "cell_type": "code",
   "execution_count": 1,
   "id": "1e2f44fa",
   "metadata": {},
   "outputs": [],
   "source": [
    "#We start by importing pandas\n",
    "import pandas as pd"
   ]
  },
  {
   "cell_type": "markdown",
   "id": "fde64cc8",
   "metadata": {},
   "source": [
    "## Creating Data\n",
    "There are two core objects in pandas:\n",
    "a) Dataframe b)Series\n",
    "\n",
    "A DataFrame is a table. It contains an array of individual entries, each of which has a certain value. Each entry corresponds to a row (or record) and a column.\n",
    "\n",
    "For example;"
   ]
  },
  {
   "cell_type": "code",
   "execution_count": 3,
   "id": "67f936e2",
   "metadata": {},
   "outputs": [
    {
     "data": {
      "text/html": [
       "<div>\n",
       "<style scoped>\n",
       "    .dataframe tbody tr th:only-of-type {\n",
       "        vertical-align: middle;\n",
       "    }\n",
       "\n",
       "    .dataframe tbody tr th {\n",
       "        vertical-align: top;\n",
       "    }\n",
       "\n",
       "    .dataframe thead th {\n",
       "        text-align: right;\n",
       "    }\n",
       "</style>\n",
       "<table border=\"1\" class=\"dataframe\">\n",
       "  <thead>\n",
       "    <tr style=\"text-align: right;\">\n",
       "      <th></th>\n",
       "      <th>Yes</th>\n",
       "      <th>No</th>\n",
       "    </tr>\n",
       "  </thead>\n",
       "  <tbody>\n",
       "    <tr>\n",
       "      <th>0</th>\n",
       "      <td>141</td>\n",
       "      <td>132</td>\n",
       "    </tr>\n",
       "    <tr>\n",
       "      <th>1</th>\n",
       "      <td>151</td>\n",
       "      <td>434</td>\n",
       "    </tr>\n",
       "  </tbody>\n",
       "</table>\n",
       "</div>"
      ],
      "text/plain": [
       "   Yes   No\n",
       "0  141  132\n",
       "1  151  434"
      ]
     },
     "execution_count": 3,
     "metadata": {},
     "output_type": "execute_result"
    }
   ],
   "source": [
    "pd.DataFrame({\"Yes\":[141,151],\"No\":[132,434]})"
   ]
  },
  {
   "cell_type": "markdown",
   "id": "9e4fd9cf",
   "metadata": {},
   "source": [
    "In this example, the \"0, No\" entry has the value of 132. The \"0, Yes\" entry has a value of 141, and so on.\n",
    "\n",
    "DataFrame entries are not limited to integers. For instance, here's a DataFrame whose values are strings:"
   ]
  },
  {
   "cell_type": "code",
   "execution_count": 4,
   "id": "079eae47",
   "metadata": {},
   "outputs": [
    {
     "data": {
      "text/html": [
       "<div>\n",
       "<style scoped>\n",
       "    .dataframe tbody tr th:only-of-type {\n",
       "        vertical-align: middle;\n",
       "    }\n",
       "\n",
       "    .dataframe tbody tr th {\n",
       "        vertical-align: top;\n",
       "    }\n",
       "\n",
       "    .dataframe thead th {\n",
       "        text-align: right;\n",
       "    }\n",
       "</style>\n",
       "<table border=\"1\" class=\"dataframe\">\n",
       "  <thead>\n",
       "    <tr style=\"text-align: right;\">\n",
       "      <th></th>\n",
       "      <th>Bob</th>\n",
       "      <th>Sue</th>\n",
       "    </tr>\n",
       "  </thead>\n",
       "  <tbody>\n",
       "    <tr>\n",
       "      <th>0</th>\n",
       "      <td>Bob was an accomplished lawyer</td>\n",
       "      <td>He is the smartest kid I know</td>\n",
       "    </tr>\n",
       "    <tr>\n",
       "      <th>1</th>\n",
       "      <td>He worked in the best legal firms</td>\n",
       "      <td>He was a genius</td>\n",
       "    </tr>\n",
       "  </tbody>\n",
       "</table>\n",
       "</div>"
      ],
      "text/plain": [
       "                                 Bob                            Sue\n",
       "0     Bob was an accomplished lawyer  He is the smartest kid I know\n",
       "1  He worked in the best legal firms                He was a genius"
      ]
     },
     "execution_count": 4,
     "metadata": {},
     "output_type": "execute_result"
    }
   ],
   "source": [
    "pd.DataFrame({\"Bob\":[\"Bob was an accomplished lawyer\",\"He worked in the best legal firms\"],\"Sue\":[\"He is the smartest kid I know\",\"He was a genius\"]})"
   ]
  },
  {
   "cell_type": "markdown",
   "id": "38f54faf",
   "metadata": {},
   "source": [
    "We are using the pd.DataFrame() constructor to generate these DataFrame objects. The syntax for declaring a new one is a dictionary whose keys are the column names (Bob and Sue in this example), and whose values are a list of entries. This is the standard way of constructing a new DataFrame, and the one you are most likely to encounter.\n",
    "\n",
    "The dictionary-list constructor assigns values to the column labels, but just uses an ascending count from 0 (0, 1, 2, 3, ...) for the row labels. Sometimes this is OK, but oftentimes we will want to assign these labels ourselves.\n",
    "\n",
    "The list of row labels used in a DataFrame is known as an Index. We can assign values to it by using an index parameter in our constructor:"
   ]
  },
  {
   "cell_type": "code",
   "execution_count": 5,
   "id": "0a2409d7",
   "metadata": {},
   "outputs": [
    {
     "data": {
      "text/html": [
       "<div>\n",
       "<style scoped>\n",
       "    .dataframe tbody tr th:only-of-type {\n",
       "        vertical-align: middle;\n",
       "    }\n",
       "\n",
       "    .dataframe tbody tr th {\n",
       "        vertical-align: top;\n",
       "    }\n",
       "\n",
       "    .dataframe thead th {\n",
       "        text-align: right;\n",
       "    }\n",
       "</style>\n",
       "<table border=\"1\" class=\"dataframe\">\n",
       "  <thead>\n",
       "    <tr style=\"text-align: right;\">\n",
       "      <th></th>\n",
       "      <th>Bob</th>\n",
       "      <th>Sue</th>\n",
       "    </tr>\n",
       "  </thead>\n",
       "  <tbody>\n",
       "    <tr>\n",
       "      <th>Lawyer A</th>\n",
       "      <td>Bob was an accomplished lawyer</td>\n",
       "      <td>He is the smartest kid I know</td>\n",
       "    </tr>\n",
       "    <tr>\n",
       "      <th>Genius A</th>\n",
       "      <td>He worked in the best legal firms</td>\n",
       "      <td>He was a genius</td>\n",
       "    </tr>\n",
       "  </tbody>\n",
       "</table>\n",
       "</div>"
      ],
      "text/plain": [
       "                                        Bob                            Sue\n",
       "Lawyer A     Bob was an accomplished lawyer  He is the smartest kid I know\n",
       "Genius A  He worked in the best legal firms                He was a genius"
      ]
     },
     "execution_count": 5,
     "metadata": {},
     "output_type": "execute_result"
    }
   ],
   "source": [
    "pd.DataFrame({\"Bob\":[\"Bob was an accomplished lawyer\",\"He worked in the best legal firms\"],\"Sue\":[\"He is the smartest kid I know\",\"He was a genius\"]},\n",
    "            index=[\"Lawyer A\",\"Genius A\"])"
   ]
  },
  {
   "cell_type": "markdown",
   "id": "b7ac176a",
   "metadata": {},
   "source": [
    "## Series\n",
    "\n",
    "A Series, by contrast, is a sequence of data values. If a DataFrame is a table, a Series is a list. And in fact you can create one with nothing more than a list:\n"
   ]
  },
  {
   "cell_type": "code",
   "execution_count": 6,
   "id": "067c97d5",
   "metadata": {},
   "outputs": [
    {
     "data": {
      "text/plain": [
       "0    1\n",
       "1    2\n",
       "2    4\n",
       "3    5\n",
       "4    6\n",
       "5    7\n",
       "dtype: int64"
      ]
     },
     "execution_count": 6,
     "metadata": {},
     "output_type": "execute_result"
    }
   ],
   "source": [
    "pd.Series([1,2,4,5,6,7])"
   ]
  },
  {
   "cell_type": "markdown",
   "id": "b76eb07d",
   "metadata": {},
   "source": [
    "A Series is, in essence, a single column of a DataFrame. So you can assign row labels to the Series the same way as before, using an index parameter. However, a Series does not have a column name, it only has one overall name:"
   ]
  },
  {
   "cell_type": "code",
   "execution_count": 7,
   "id": "a78a0df7",
   "metadata": {},
   "outputs": [
    {
     "data": {
      "text/plain": [
       "2015 sales    30\n",
       "2016 sales    35\n",
       "2017 sales    45\n",
       "Name: Product A, dtype: int64"
      ]
     },
     "execution_count": 7,
     "metadata": {},
     "output_type": "execute_result"
    }
   ],
   "source": [
    "pd.Series([30,35,45], index=[\"2015 sales\",\"2016 sales\",\"2017 sales\"], name=\"Product A\")"
   ]
  },
  {
   "cell_type": "markdown",
   "id": "08cb6be9",
   "metadata": {},
   "source": [
    "The Series and the DataFrame are intimately related. It's helpful to think of a DataFrame as actually being just a bunch of Series \"glued together\". We'll see more of this in the next section of this tutorial."
   ]
  },
  {
   "cell_type": "markdown",
   "id": "ff4119f9",
   "metadata": {},
   "source": [
    "The Series and the DataFrame are intimately related. It is helpful to think of a DataFrame as actually being just a bunch of Series \"glued together\". \n",
    "We will see more of this in the next section of this tutorial."
   ]
  },
  {
   "cell_type": "markdown",
   "id": "470666c8",
   "metadata": {},
   "source": [
    "## READING FILES"
   ]
  },
  {
   "cell_type": "markdown",
   "id": "f1655320",
   "metadata": {},
   "source": [
    "Being able to create a DataFrame or Series by hand is handy. But, most of the time, \n",
    "we wont actually be creating our own data by hand. Instead, we will be working with data that already exists.\n",
    "\n",
    "Data can be stored in any of a number of different forms and formats. \n",
    "By far the most basic of these is the humble CSV"
   ]
  },
  {
   "cell_type": "code",
   "execution_count": null,
   "id": "57b0fb35",
   "metadata": {},
   "outputs": [],
   "source": [
    "Product A, Product B, Product C,\n",
    "30,  25,   56,\n",
    "56,  65,   76,\n",
    "45,  67,   65"
   ]
  },
  {
   "cell_type": "markdown",
   "id": "45ed5fc9",
   "metadata": {},
   "source": [
    "So a CSV file is a table of values separated by commas. Hence the name: \"Comma-Separated Values\", or CSV.\n",
    "\n",
    "Let's now set aside our toy datasets and see what a real dataset looks like when we read it into a DataFrame. We'll use the pd.read_csv() function to read the data into a DataFrame. This goes thusly:"
   ]
  },
  {
   "cell_type": "code",
   "execution_count": 11,
   "id": "9600b963",
   "metadata": {},
   "outputs": [],
   "source": [
    "winemag = pd.read_csv(\"/home/kduah/Desktop/ML/02-Pandas/winemag-data-130k-v2.csv\")"
   ]
  },
  {
   "cell_type": "code",
   "execution_count": 13,
   "id": "0cb90223",
   "metadata": {},
   "outputs": [
    {
     "data": {
      "text/plain": [
       "(129971, 14)"
      ]
     },
     "execution_count": 13,
     "metadata": {},
     "output_type": "execute_result"
    }
   ],
   "source": [
    "#We can use the shape attribute to check how large the resulting DataFrame is:\n",
    "winemag.shape"
   ]
  },
  {
   "cell_type": "markdown",
   "id": "f725fdb9",
   "metadata": {},
   "source": [
    "So our new DataFrame has 130,000 records split across 14 different columns. That's almost 2 million entries!\n",
    "\n",
    "We can examine the contents of the resultant DataFrame using the head() command, which grabs the first five rows:"
   ]
  },
  {
   "cell_type": "code",
   "execution_count": 14,
   "id": "3c9145b4",
   "metadata": {},
   "outputs": [
    {
     "data": {
      "text/html": [
       "<div>\n",
       "<style scoped>\n",
       "    .dataframe tbody tr th:only-of-type {\n",
       "        vertical-align: middle;\n",
       "    }\n",
       "\n",
       "    .dataframe tbody tr th {\n",
       "        vertical-align: top;\n",
       "    }\n",
       "\n",
       "    .dataframe thead th {\n",
       "        text-align: right;\n",
       "    }\n",
       "</style>\n",
       "<table border=\"1\" class=\"dataframe\">\n",
       "  <thead>\n",
       "    <tr style=\"text-align: right;\">\n",
       "      <th></th>\n",
       "      <th>Unnamed: 0</th>\n",
       "      <th>country</th>\n",
       "      <th>description</th>\n",
       "      <th>designation</th>\n",
       "      <th>points</th>\n",
       "      <th>price</th>\n",
       "      <th>province</th>\n",
       "      <th>region_1</th>\n",
       "      <th>region_2</th>\n",
       "      <th>taster_name</th>\n",
       "      <th>taster_twitter_handle</th>\n",
       "      <th>title</th>\n",
       "      <th>variety</th>\n",
       "      <th>winery</th>\n",
       "    </tr>\n",
       "  </thead>\n",
       "  <tbody>\n",
       "    <tr>\n",
       "      <th>0</th>\n",
       "      <td>0</td>\n",
       "      <td>Italy</td>\n",
       "      <td>Aromas include tropical fruit, broom, brimston...</td>\n",
       "      <td>Vulkà Bianco</td>\n",
       "      <td>87</td>\n",
       "      <td>NaN</td>\n",
       "      <td>Sicily &amp; Sardinia</td>\n",
       "      <td>Etna</td>\n",
       "      <td>NaN</td>\n",
       "      <td>Kerin O’Keefe</td>\n",
       "      <td>@kerinokeefe</td>\n",
       "      <td>Nicosia 2013 Vulkà Bianco  (Etna)</td>\n",
       "      <td>White Blend</td>\n",
       "      <td>Nicosia</td>\n",
       "    </tr>\n",
       "    <tr>\n",
       "      <th>1</th>\n",
       "      <td>1</td>\n",
       "      <td>Portugal</td>\n",
       "      <td>This is ripe and fruity, a wine that is smooth...</td>\n",
       "      <td>Avidagos</td>\n",
       "      <td>87</td>\n",
       "      <td>15.0</td>\n",
       "      <td>Douro</td>\n",
       "      <td>NaN</td>\n",
       "      <td>NaN</td>\n",
       "      <td>Roger Voss</td>\n",
       "      <td>@vossroger</td>\n",
       "      <td>Quinta dos Avidagos 2011 Avidagos Red (Douro)</td>\n",
       "      <td>Portuguese Red</td>\n",
       "      <td>Quinta dos Avidagos</td>\n",
       "    </tr>\n",
       "    <tr>\n",
       "      <th>2</th>\n",
       "      <td>2</td>\n",
       "      <td>US</td>\n",
       "      <td>Tart and snappy, the flavors of lime flesh and...</td>\n",
       "      <td>NaN</td>\n",
       "      <td>87</td>\n",
       "      <td>14.0</td>\n",
       "      <td>Oregon</td>\n",
       "      <td>Willamette Valley</td>\n",
       "      <td>Willamette Valley</td>\n",
       "      <td>Paul Gregutt</td>\n",
       "      <td>@paulgwine</td>\n",
       "      <td>Rainstorm 2013 Pinot Gris (Willamette Valley)</td>\n",
       "      <td>Pinot Gris</td>\n",
       "      <td>Rainstorm</td>\n",
       "    </tr>\n",
       "    <tr>\n",
       "      <th>3</th>\n",
       "      <td>3</td>\n",
       "      <td>US</td>\n",
       "      <td>Pineapple rind, lemon pith and orange blossom ...</td>\n",
       "      <td>Reserve Late Harvest</td>\n",
       "      <td>87</td>\n",
       "      <td>13.0</td>\n",
       "      <td>Michigan</td>\n",
       "      <td>Lake Michigan Shore</td>\n",
       "      <td>NaN</td>\n",
       "      <td>Alexander Peartree</td>\n",
       "      <td>NaN</td>\n",
       "      <td>St. Julian 2013 Reserve Late Harvest Riesling ...</td>\n",
       "      <td>Riesling</td>\n",
       "      <td>St. Julian</td>\n",
       "    </tr>\n",
       "    <tr>\n",
       "      <th>4</th>\n",
       "      <td>4</td>\n",
       "      <td>US</td>\n",
       "      <td>Much like the regular bottling from 2012, this...</td>\n",
       "      <td>Vintner's Reserve Wild Child Block</td>\n",
       "      <td>87</td>\n",
       "      <td>65.0</td>\n",
       "      <td>Oregon</td>\n",
       "      <td>Willamette Valley</td>\n",
       "      <td>Willamette Valley</td>\n",
       "      <td>Paul Gregutt</td>\n",
       "      <td>@paulgwine</td>\n",
       "      <td>Sweet Cheeks 2012 Vintner's Reserve Wild Child...</td>\n",
       "      <td>Pinot Noir</td>\n",
       "      <td>Sweet Cheeks</td>\n",
       "    </tr>\n",
       "  </tbody>\n",
       "</table>\n",
       "</div>"
      ],
      "text/plain": [
       "   Unnamed: 0   country                                        description  \\\n",
       "0           0     Italy  Aromas include tropical fruit, broom, brimston...   \n",
       "1           1  Portugal  This is ripe and fruity, a wine that is smooth...   \n",
       "2           2        US  Tart and snappy, the flavors of lime flesh and...   \n",
       "3           3        US  Pineapple rind, lemon pith and orange blossom ...   \n",
       "4           4        US  Much like the regular bottling from 2012, this...   \n",
       "\n",
       "                          designation  points  price           province  \\\n",
       "0                        Vulkà Bianco      87    NaN  Sicily & Sardinia   \n",
       "1                            Avidagos      87   15.0              Douro   \n",
       "2                                 NaN      87   14.0             Oregon   \n",
       "3                Reserve Late Harvest      87   13.0           Michigan   \n",
       "4  Vintner's Reserve Wild Child Block      87   65.0             Oregon   \n",
       "\n",
       "              region_1           region_2         taster_name  \\\n",
       "0                 Etna                NaN       Kerin O’Keefe   \n",
       "1                  NaN                NaN          Roger Voss   \n",
       "2    Willamette Valley  Willamette Valley        Paul Gregutt   \n",
       "3  Lake Michigan Shore                NaN  Alexander Peartree   \n",
       "4    Willamette Valley  Willamette Valley        Paul Gregutt   \n",
       "\n",
       "  taster_twitter_handle                                              title  \\\n",
       "0          @kerinokeefe                  Nicosia 2013 Vulkà Bianco  (Etna)   \n",
       "1            @vossroger      Quinta dos Avidagos 2011 Avidagos Red (Douro)   \n",
       "2           @paulgwine       Rainstorm 2013 Pinot Gris (Willamette Valley)   \n",
       "3                   NaN  St. Julian 2013 Reserve Late Harvest Riesling ...   \n",
       "4           @paulgwine   Sweet Cheeks 2012 Vintner's Reserve Wild Child...   \n",
       "\n",
       "          variety               winery  \n",
       "0     White Blend              Nicosia  \n",
       "1  Portuguese Red  Quinta dos Avidagos  \n",
       "2      Pinot Gris            Rainstorm  \n",
       "3        Riesling           St. Julian  \n",
       "4      Pinot Noir         Sweet Cheeks  "
      ]
     },
     "execution_count": 14,
     "metadata": {},
     "output_type": "execute_result"
    }
   ],
   "source": [
    "winemag.head()"
   ]
  },
  {
   "cell_type": "markdown",
   "id": "0ed85296",
   "metadata": {},
   "source": [
    "The pd.read_csv() function is well-endowed, with over 30 optional parameters you can specify. For example, you can see in this dataset that the CSV file has a built-in index, which pandas did not pick up on automatically. To make pandas use that column for the index (instead of creating a new one from scratch), we can specify an index_col"
   ]
  },
  {
   "cell_type": "code",
   "execution_count": 15,
   "id": "aff89837",
   "metadata": {},
   "outputs": [
    {
     "data": {
      "text/html": [
       "<div>\n",
       "<style scoped>\n",
       "    .dataframe tbody tr th:only-of-type {\n",
       "        vertical-align: middle;\n",
       "    }\n",
       "\n",
       "    .dataframe tbody tr th {\n",
       "        vertical-align: top;\n",
       "    }\n",
       "\n",
       "    .dataframe thead th {\n",
       "        text-align: right;\n",
       "    }\n",
       "</style>\n",
       "<table border=\"1\" class=\"dataframe\">\n",
       "  <thead>\n",
       "    <tr style=\"text-align: right;\">\n",
       "      <th></th>\n",
       "      <th>country</th>\n",
       "      <th>description</th>\n",
       "      <th>designation</th>\n",
       "      <th>points</th>\n",
       "      <th>price</th>\n",
       "      <th>province</th>\n",
       "      <th>region_1</th>\n",
       "      <th>region_2</th>\n",
       "      <th>taster_name</th>\n",
       "      <th>taster_twitter_handle</th>\n",
       "      <th>title</th>\n",
       "      <th>variety</th>\n",
       "      <th>winery</th>\n",
       "    </tr>\n",
       "  </thead>\n",
       "  <tbody>\n",
       "    <tr>\n",
       "      <th>0</th>\n",
       "      <td>Italy</td>\n",
       "      <td>Aromas include tropical fruit, broom, brimston...</td>\n",
       "      <td>Vulkà Bianco</td>\n",
       "      <td>87</td>\n",
       "      <td>NaN</td>\n",
       "      <td>Sicily &amp; Sardinia</td>\n",
       "      <td>Etna</td>\n",
       "      <td>NaN</td>\n",
       "      <td>Kerin O’Keefe</td>\n",
       "      <td>@kerinokeefe</td>\n",
       "      <td>Nicosia 2013 Vulkà Bianco  (Etna)</td>\n",
       "      <td>White Blend</td>\n",
       "      <td>Nicosia</td>\n",
       "    </tr>\n",
       "    <tr>\n",
       "      <th>1</th>\n",
       "      <td>Portugal</td>\n",
       "      <td>This is ripe and fruity, a wine that is smooth...</td>\n",
       "      <td>Avidagos</td>\n",
       "      <td>87</td>\n",
       "      <td>15.0</td>\n",
       "      <td>Douro</td>\n",
       "      <td>NaN</td>\n",
       "      <td>NaN</td>\n",
       "      <td>Roger Voss</td>\n",
       "      <td>@vossroger</td>\n",
       "      <td>Quinta dos Avidagos 2011 Avidagos Red (Douro)</td>\n",
       "      <td>Portuguese Red</td>\n",
       "      <td>Quinta dos Avidagos</td>\n",
       "    </tr>\n",
       "    <tr>\n",
       "      <th>2</th>\n",
       "      <td>US</td>\n",
       "      <td>Tart and snappy, the flavors of lime flesh and...</td>\n",
       "      <td>NaN</td>\n",
       "      <td>87</td>\n",
       "      <td>14.0</td>\n",
       "      <td>Oregon</td>\n",
       "      <td>Willamette Valley</td>\n",
       "      <td>Willamette Valley</td>\n",
       "      <td>Paul Gregutt</td>\n",
       "      <td>@paulgwine</td>\n",
       "      <td>Rainstorm 2013 Pinot Gris (Willamette Valley)</td>\n",
       "      <td>Pinot Gris</td>\n",
       "      <td>Rainstorm</td>\n",
       "    </tr>\n",
       "    <tr>\n",
       "      <th>3</th>\n",
       "      <td>US</td>\n",
       "      <td>Pineapple rind, lemon pith and orange blossom ...</td>\n",
       "      <td>Reserve Late Harvest</td>\n",
       "      <td>87</td>\n",
       "      <td>13.0</td>\n",
       "      <td>Michigan</td>\n",
       "      <td>Lake Michigan Shore</td>\n",
       "      <td>NaN</td>\n",
       "      <td>Alexander Peartree</td>\n",
       "      <td>NaN</td>\n",
       "      <td>St. Julian 2013 Reserve Late Harvest Riesling ...</td>\n",
       "      <td>Riesling</td>\n",
       "      <td>St. Julian</td>\n",
       "    </tr>\n",
       "    <tr>\n",
       "      <th>4</th>\n",
       "      <td>US</td>\n",
       "      <td>Much like the regular bottling from 2012, this...</td>\n",
       "      <td>Vintner's Reserve Wild Child Block</td>\n",
       "      <td>87</td>\n",
       "      <td>65.0</td>\n",
       "      <td>Oregon</td>\n",
       "      <td>Willamette Valley</td>\n",
       "      <td>Willamette Valley</td>\n",
       "      <td>Paul Gregutt</td>\n",
       "      <td>@paulgwine</td>\n",
       "      <td>Sweet Cheeks 2012 Vintner's Reserve Wild Child...</td>\n",
       "      <td>Pinot Noir</td>\n",
       "      <td>Sweet Cheeks</td>\n",
       "    </tr>\n",
       "  </tbody>\n",
       "</table>\n",
       "</div>"
      ],
      "text/plain": [
       "    country                                        description  \\\n",
       "0     Italy  Aromas include tropical fruit, broom, brimston...   \n",
       "1  Portugal  This is ripe and fruity, a wine that is smooth...   \n",
       "2        US  Tart and snappy, the flavors of lime flesh and...   \n",
       "3        US  Pineapple rind, lemon pith and orange blossom ...   \n",
       "4        US  Much like the regular bottling from 2012, this...   \n",
       "\n",
       "                          designation  points  price           province  \\\n",
       "0                        Vulkà Bianco      87    NaN  Sicily & Sardinia   \n",
       "1                            Avidagos      87   15.0              Douro   \n",
       "2                                 NaN      87   14.0             Oregon   \n",
       "3                Reserve Late Harvest      87   13.0           Michigan   \n",
       "4  Vintner's Reserve Wild Child Block      87   65.0             Oregon   \n",
       "\n",
       "              region_1           region_2         taster_name  \\\n",
       "0                 Etna                NaN       Kerin O’Keefe   \n",
       "1                  NaN                NaN          Roger Voss   \n",
       "2    Willamette Valley  Willamette Valley        Paul Gregutt   \n",
       "3  Lake Michigan Shore                NaN  Alexander Peartree   \n",
       "4    Willamette Valley  Willamette Valley        Paul Gregutt   \n",
       "\n",
       "  taster_twitter_handle                                              title  \\\n",
       "0          @kerinokeefe                  Nicosia 2013 Vulkà Bianco  (Etna)   \n",
       "1            @vossroger      Quinta dos Avidagos 2011 Avidagos Red (Douro)   \n",
       "2           @paulgwine       Rainstorm 2013 Pinot Gris (Willamette Valley)   \n",
       "3                   NaN  St. Julian 2013 Reserve Late Harvest Riesling ...   \n",
       "4           @paulgwine   Sweet Cheeks 2012 Vintner's Reserve Wild Child...   \n",
       "\n",
       "          variety               winery  \n",
       "0     White Blend              Nicosia  \n",
       "1  Portuguese Red  Quinta dos Avidagos  \n",
       "2      Pinot Gris            Rainstorm  \n",
       "3        Riesling           St. Julian  \n",
       "4      Pinot Noir         Sweet Cheeks  "
      ]
     },
     "execution_count": 15,
     "metadata": {},
     "output_type": "execute_result"
    }
   ],
   "source": [
    "winemag = pd.read_csv(\"/home/kduah/Desktop/ML/02-Pandas/winemag-data-130k-v2.csv\", index_col=0)\n",
    "winemag.head()"
   ]
  },
  {
   "cell_type": "markdown",
   "id": "043bb018",
   "metadata": {},
   "source": [
    "## Indexing, Selecting and Assigning"
   ]
  },
  {
   "cell_type": "markdown",
   "id": "92d140c1",
   "metadata": {},
   "source": [
    "Selecting specific values of a pandas DataFrame or \n",
    "Series to work on is an implicit step in almost any data operation you will run, so one of the first things you need to learn in working with data in Python is how to go about selecting the data points relevant to you quickly and effectively."
   ]
  },
  {
   "cell_type": "code",
   "execution_count": 31,
   "id": "c470fd26",
   "metadata": {},
   "outputs": [],
   "source": [
    "import pandas as pd\n",
    "winemag = pd.read_csv('/home/kduah/Desktop/ML/02-Pandas/winemag-data-130k-v2.csv',index_col=0)\n",
    "pd.set_option('display.max_rows',5)\n"
   ]
  },
  {
   "cell_type": "markdown",
   "id": "f40d0f5d",
   "metadata": {},
   "source": [
    "In Python, we can access the property of an object by accessing it as an attribute. A book object, for example, might have a title property, which we can access by calling book.title. Columns in a pandas DataFrame work in much the same way.\n",
    "\n",
    "Hence to access the country property of reviews we can use:"
   ]
  },
  {
   "cell_type": "code",
   "execution_count": 23,
   "id": "7d0ba13c",
   "metadata": {},
   "outputs": [
    {
     "data": {
      "text/plain": [
       "0            Italy\n",
       "1         Portugal\n",
       "            ...   \n",
       "129969      France\n",
       "129970      France\n",
       "Name: country, Length: 129971, dtype: object"
      ]
     },
     "execution_count": 23,
     "metadata": {},
     "output_type": "execute_result"
    }
   ],
   "source": [
    "winemag.country"
   ]
  },
  {
   "cell_type": "markdown",
   "id": "9569877e",
   "metadata": {},
   "source": [
    "If we have a Python dictionary, we can access its values using the indexing ([]) operator. We can do the same with columns in a DataFrame"
   ]
  },
  {
   "cell_type": "code",
   "execution_count": 24,
   "id": "0689855b",
   "metadata": {},
   "outputs": [
    {
     "data": {
      "text/plain": [
       "0            Italy\n",
       "1         Portugal\n",
       "            ...   \n",
       "129969      France\n",
       "129970      France\n",
       "Name: country, Length: 129971, dtype: object"
      ]
     },
     "execution_count": 24,
     "metadata": {},
     "output_type": "execute_result"
    }
   ],
   "source": [
    "winemag['country']"
   ]
  },
  {
   "cell_type": "markdown",
   "id": "0b362e58",
   "metadata": {},
   "source": [
    "These are the two ways of selecting a specific Series out of a DataFrame. Neither of them is more or less syntactically valid than the other, but the indexing operator [] does have the advantage that it can handle column names with reserved characters in them (e.g. if we had a country providence column, reviews.country providence wouldn't work).\n",
    "\n",
    "Doesn't a pandas Series look kind of like a fancy dictionary? It pretty much is, so it's no surprise that, to drill down to a single specific value, we need only use the indexing operator [] once more:"
   ]
  },
  {
   "cell_type": "code",
   "execution_count": 25,
   "id": "464a1b8f",
   "metadata": {},
   "outputs": [
    {
     "data": {
      "text/plain": [
       "'Italy'"
      ]
     },
     "execution_count": 25,
     "metadata": {},
     "output_type": "execute_result"
    }
   ],
   "source": [
    "winemag['country'][0]"
   ]
  },
  {
   "cell_type": "markdown",
   "id": "9996c526",
   "metadata": {},
   "source": [
    "# Indexing In Pandas\n",
    "\n",
    "The indexing operator and attribute selection are nice because they work just like they do in the rest of the Python ecosystem. As a novice, this makes them easy to pick up and use. However, pandas has its own accessor operators, [loc and iloc. For more advanced operations, these are the ones you're supposed to be using.]\n",
    "\n",
    "## Index-based Selection\n",
    "Pandas indexing works in one of two paradigms. The first is index-based selection: selecting data based on its numerical position in the data. iloc follows this paradigm.\n",
    "\n",
    "To select the first row of data in a DataFrame, we may use the following"
   ]
  },
  {
   "cell_type": "code",
   "execution_count": 26,
   "id": "111c36c7",
   "metadata": {},
   "outputs": [
    {
     "data": {
      "text/plain": [
       "country                                                    Italy\n",
       "description    Aromas include tropical fruit, broom, brimston...\n",
       "                                     ...                        \n",
       "variety                                              White Blend\n",
       "winery                                                   Nicosia\n",
       "Name: 0, Length: 13, dtype: object"
      ]
     },
     "execution_count": 26,
     "metadata": {},
     "output_type": "execute_result"
    }
   ],
   "source": [
    "winemag.iloc[0]"
   ]
  },
  {
   "cell_type": "markdown",
   "id": "be958a15",
   "metadata": {},
   "source": [
    "Both loc and iloc are row-first, column-second. This is the opposite of what we do in native Python, which is column-first, row-second.\n",
    "\n",
    "This means that it's marginally easier to retrieve rows, and marginally harder to get retrieve columns. To get a column with iloc, we can do the following:"
   ]
  },
  {
   "cell_type": "code",
   "execution_count": 32,
   "id": "a6e0c4e4",
   "metadata": {},
   "outputs": [
    {
     "data": {
      "text/plain": [
       "0            Italy\n",
       "1         Portugal\n",
       "            ...   \n",
       "129969      France\n",
       "129970      France\n",
       "Name: country, Length: 129971, dtype: object"
      ]
     },
     "execution_count": 32,
     "metadata": {},
     "output_type": "execute_result"
    }
   ],
   "source": [
    "winemag.iloc[:,0]"
   ]
  },
  {
   "cell_type": "markdown",
   "id": "7fc59eaa",
   "metadata": {},
   "source": [
    "On its own, the : operator, which also comes from native Python, means \"everything\". When combined with other selectors, however, it can be used to indicate a range of values. For example, to select the country column from just the first, second, and third row, we would do:"
   ]
  },
  {
   "cell_type": "code",
   "execution_count": 33,
   "id": "750342e9",
   "metadata": {},
   "outputs": [
    {
     "data": {
      "text/plain": [
       "0       Italy\n",
       "1    Portugal\n",
       "2          US\n",
       "Name: country, dtype: object"
      ]
     },
     "execution_count": 33,
     "metadata": {},
     "output_type": "execute_result"
    }
   ],
   "source": [
    "winemag.iloc[:3,0]"
   ]
  },
  {
   "cell_type": "markdown",
   "id": "3be13599",
   "metadata": {},
   "source": [
    "Or, to select just the second and third entries, we would do:"
   ]
  },
  {
   "cell_type": "code",
   "execution_count": 34,
   "id": "8651d375",
   "metadata": {},
   "outputs": [
    {
     "data": {
      "text/plain": [
       "1    Portugal\n",
       "2          US\n",
       "Name: country, dtype: object"
      ]
     },
     "execution_count": 34,
     "metadata": {},
     "output_type": "execute_result"
    }
   ],
   "source": [
    "winemag.iloc[1:3,0]"
   ]
  },
  {
   "cell_type": "markdown",
   "id": "d6fca714",
   "metadata": {},
   "source": [
    "It's also possible to pass a list:"
   ]
  },
  {
   "cell_type": "code",
   "execution_count": 35,
   "id": "af1df807",
   "metadata": {},
   "outputs": [
    {
     "data": {
      "text/plain": [
       "0       Italy\n",
       "1    Portugal\n",
       "2          US\n",
       "Name: country, dtype: object"
      ]
     },
     "execution_count": 35,
     "metadata": {},
     "output_type": "execute_result"
    }
   ],
   "source": [
    "winemag.iloc[[0,1,2],0]"
   ]
  },
  {
   "cell_type": "markdown",
   "id": "252263ac",
   "metadata": {},
   "source": [
    "Finally, it's worth knowing that negative numbers can be used in selection. This will start counting forwards from the end of the values. So for example here are the last five elements of the dataset."
   ]
  },
  {
   "cell_type": "code",
   "execution_count": 36,
   "id": "b124bb44",
   "metadata": {},
   "outputs": [
    {
     "data": {
      "text/html": [
       "<div>\n",
       "<style scoped>\n",
       "    .dataframe tbody tr th:only-of-type {\n",
       "        vertical-align: middle;\n",
       "    }\n",
       "\n",
       "    .dataframe tbody tr th {\n",
       "        vertical-align: top;\n",
       "    }\n",
       "\n",
       "    .dataframe thead th {\n",
       "        text-align: right;\n",
       "    }\n",
       "</style>\n",
       "<table border=\"1\" class=\"dataframe\">\n",
       "  <thead>\n",
       "    <tr style=\"text-align: right;\">\n",
       "      <th></th>\n",
       "      <th>country</th>\n",
       "      <th>description</th>\n",
       "      <th>designation</th>\n",
       "      <th>points</th>\n",
       "      <th>price</th>\n",
       "      <th>province</th>\n",
       "      <th>region_1</th>\n",
       "      <th>region_2</th>\n",
       "      <th>taster_name</th>\n",
       "      <th>taster_twitter_handle</th>\n",
       "      <th>title</th>\n",
       "      <th>variety</th>\n",
       "      <th>winery</th>\n",
       "    </tr>\n",
       "  </thead>\n",
       "  <tbody>\n",
       "    <tr>\n",
       "      <th>129966</th>\n",
       "      <td>Germany</td>\n",
       "      <td>Notes of honeysuckle and cantaloupe sweeten th...</td>\n",
       "      <td>Brauneberger Juffer-Sonnenuhr Spätlese</td>\n",
       "      <td>90</td>\n",
       "      <td>28.0</td>\n",
       "      <td>Mosel</td>\n",
       "      <td>NaN</td>\n",
       "      <td>NaN</td>\n",
       "      <td>Anna Lee C. Iijima</td>\n",
       "      <td>NaN</td>\n",
       "      <td>Dr. H. Thanisch (Erben Müller-Burggraef) 2013 ...</td>\n",
       "      <td>Riesling</td>\n",
       "      <td>Dr. H. Thanisch (Erben Müller-Burggraef)</td>\n",
       "    </tr>\n",
       "    <tr>\n",
       "      <th>129967</th>\n",
       "      <td>US</td>\n",
       "      <td>Citation is given as much as a decade of bottl...</td>\n",
       "      <td>NaN</td>\n",
       "      <td>90</td>\n",
       "      <td>75.0</td>\n",
       "      <td>Oregon</td>\n",
       "      <td>Oregon</td>\n",
       "      <td>Oregon Other</td>\n",
       "      <td>Paul Gregutt</td>\n",
       "      <td>@paulgwine</td>\n",
       "      <td>Citation 2004 Pinot Noir (Oregon)</td>\n",
       "      <td>Pinot Noir</td>\n",
       "      <td>Citation</td>\n",
       "    </tr>\n",
       "    <tr>\n",
       "      <th>129968</th>\n",
       "      <td>France</td>\n",
       "      <td>Well-drained gravel soil gives this wine its c...</td>\n",
       "      <td>Kritt</td>\n",
       "      <td>90</td>\n",
       "      <td>30.0</td>\n",
       "      <td>Alsace</td>\n",
       "      <td>Alsace</td>\n",
       "      <td>NaN</td>\n",
       "      <td>Roger Voss</td>\n",
       "      <td>@vossroger</td>\n",
       "      <td>Domaine Gresser 2013 Kritt Gewurztraminer (Als...</td>\n",
       "      <td>Gewürztraminer</td>\n",
       "      <td>Domaine Gresser</td>\n",
       "    </tr>\n",
       "    <tr>\n",
       "      <th>129969</th>\n",
       "      <td>France</td>\n",
       "      <td>A dry style of Pinot Gris, this is crisp with ...</td>\n",
       "      <td>NaN</td>\n",
       "      <td>90</td>\n",
       "      <td>32.0</td>\n",
       "      <td>Alsace</td>\n",
       "      <td>Alsace</td>\n",
       "      <td>NaN</td>\n",
       "      <td>Roger Voss</td>\n",
       "      <td>@vossroger</td>\n",
       "      <td>Domaine Marcel Deiss 2012 Pinot Gris (Alsace)</td>\n",
       "      <td>Pinot Gris</td>\n",
       "      <td>Domaine Marcel Deiss</td>\n",
       "    </tr>\n",
       "    <tr>\n",
       "      <th>129970</th>\n",
       "      <td>France</td>\n",
       "      <td>Big, rich and off-dry, this is powered by inte...</td>\n",
       "      <td>Lieu-dit Harth Cuvée Caroline</td>\n",
       "      <td>90</td>\n",
       "      <td>21.0</td>\n",
       "      <td>Alsace</td>\n",
       "      <td>Alsace</td>\n",
       "      <td>NaN</td>\n",
       "      <td>Roger Voss</td>\n",
       "      <td>@vossroger</td>\n",
       "      <td>Domaine Schoffit 2012 Lieu-dit Harth Cuvée Car...</td>\n",
       "      <td>Gewürztraminer</td>\n",
       "      <td>Domaine Schoffit</td>\n",
       "    </tr>\n",
       "  </tbody>\n",
       "</table>\n",
       "</div>"
      ],
      "text/plain": [
       "        country                                        description  \\\n",
       "129966  Germany  Notes of honeysuckle and cantaloupe sweeten th...   \n",
       "129967       US  Citation is given as much as a decade of bottl...   \n",
       "129968   France  Well-drained gravel soil gives this wine its c...   \n",
       "129969   France  A dry style of Pinot Gris, this is crisp with ...   \n",
       "129970   France  Big, rich and off-dry, this is powered by inte...   \n",
       "\n",
       "                                   designation  points  price province  \\\n",
       "129966  Brauneberger Juffer-Sonnenuhr Spätlese      90   28.0    Mosel   \n",
       "129967                                     NaN      90   75.0   Oregon   \n",
       "129968                                   Kritt      90   30.0   Alsace   \n",
       "129969                                     NaN      90   32.0   Alsace   \n",
       "129970           Lieu-dit Harth Cuvée Caroline      90   21.0   Alsace   \n",
       "\n",
       "       region_1      region_2         taster_name taster_twitter_handle  \\\n",
       "129966      NaN           NaN  Anna Lee C. Iijima                   NaN   \n",
       "129967   Oregon  Oregon Other        Paul Gregutt           @paulgwine    \n",
       "129968   Alsace           NaN          Roger Voss            @vossroger   \n",
       "129969   Alsace           NaN          Roger Voss            @vossroger   \n",
       "129970   Alsace           NaN          Roger Voss            @vossroger   \n",
       "\n",
       "                                                    title         variety  \\\n",
       "129966  Dr. H. Thanisch (Erben Müller-Burggraef) 2013 ...        Riesling   \n",
       "129967                  Citation 2004 Pinot Noir (Oregon)      Pinot Noir   \n",
       "129968  Domaine Gresser 2013 Kritt Gewurztraminer (Als...  Gewürztraminer   \n",
       "129969      Domaine Marcel Deiss 2012 Pinot Gris (Alsace)      Pinot Gris   \n",
       "129970  Domaine Schoffit 2012 Lieu-dit Harth Cuvée Car...  Gewürztraminer   \n",
       "\n",
       "                                          winery  \n",
       "129966  Dr. H. Thanisch (Erben Müller-Burggraef)  \n",
       "129967                                  Citation  \n",
       "129968                           Domaine Gresser  \n",
       "129969                      Domaine Marcel Deiss  \n",
       "129970                          Domaine Schoffit  "
      ]
     },
     "execution_count": 36,
     "metadata": {},
     "output_type": "execute_result"
    }
   ],
   "source": [
    "winemag.iloc[-5:]"
   ]
  },
  {
   "cell_type": "markdown",
   "id": "741feb3c",
   "metadata": {},
   "source": [
    "# Label-based Selection\n",
    "\n",
    "The second paradigm for attribute selection is the one followed by the loc operator: label-based selection. In this paradigm, it's the data index value, not its position, which matters.\n",
    "\n",
    "For example, to get the first entry in reviews, we would now do the following:"
   ]
  },
  {
   "cell_type": "code",
   "execution_count": 37,
   "id": "666447e8",
   "metadata": {},
   "outputs": [
    {
     "data": {
      "text/plain": [
       "'Italy'"
      ]
     },
     "execution_count": 37,
     "metadata": {},
     "output_type": "execute_result"
    }
   ],
   "source": [
    "winemag.loc[0,'country']"
   ]
  },
  {
   "cell_type": "markdown",
   "id": "a574d70e",
   "metadata": {},
   "source": [
    "iloc is conceptually simpler than loc because it ignores the dataset's indices. When we use iloc we treat the dataset like a big matrix (a list of lists), one that we have to index into by position. loc, by contrast, uses the information in the indices to do its work. Since your dataset usually has meaningful indices, it's usually easier to do things using loc instead. For example, here's one operation that's much easier using loc:"
   ]
  },
  {
   "cell_type": "code",
   "execution_count": 38,
   "id": "8232a908",
   "metadata": {},
   "outputs": [
    {
     "data": {
      "text/html": [
       "<div>\n",
       "<style scoped>\n",
       "    .dataframe tbody tr th:only-of-type {\n",
       "        vertical-align: middle;\n",
       "    }\n",
       "\n",
       "    .dataframe tbody tr th {\n",
       "        vertical-align: top;\n",
       "    }\n",
       "\n",
       "    .dataframe thead th {\n",
       "        text-align: right;\n",
       "    }\n",
       "</style>\n",
       "<table border=\"1\" class=\"dataframe\">\n",
       "  <thead>\n",
       "    <tr style=\"text-align: right;\">\n",
       "      <th></th>\n",
       "      <th>taster_name</th>\n",
       "      <th>taster_twitter_handle</th>\n",
       "      <th>points</th>\n",
       "    </tr>\n",
       "  </thead>\n",
       "  <tbody>\n",
       "    <tr>\n",
       "      <th>0</th>\n",
       "      <td>Kerin O’Keefe</td>\n",
       "      <td>@kerinokeefe</td>\n",
       "      <td>87</td>\n",
       "    </tr>\n",
       "    <tr>\n",
       "      <th>1</th>\n",
       "      <td>Roger Voss</td>\n",
       "      <td>@vossroger</td>\n",
       "      <td>87</td>\n",
       "    </tr>\n",
       "    <tr>\n",
       "      <th>...</th>\n",
       "      <td>...</td>\n",
       "      <td>...</td>\n",
       "      <td>...</td>\n",
       "    </tr>\n",
       "    <tr>\n",
       "      <th>129969</th>\n",
       "      <td>Roger Voss</td>\n",
       "      <td>@vossroger</td>\n",
       "      <td>90</td>\n",
       "    </tr>\n",
       "    <tr>\n",
       "      <th>129970</th>\n",
       "      <td>Roger Voss</td>\n",
       "      <td>@vossroger</td>\n",
       "      <td>90</td>\n",
       "    </tr>\n",
       "  </tbody>\n",
       "</table>\n",
       "<p>129971 rows × 3 columns</p>\n",
       "</div>"
      ],
      "text/plain": [
       "          taster_name taster_twitter_handle  points\n",
       "0       Kerin O’Keefe          @kerinokeefe      87\n",
       "1          Roger Voss            @vossroger      87\n",
       "...               ...                   ...     ...\n",
       "129969     Roger Voss            @vossroger      90\n",
       "129970     Roger Voss            @vossroger      90\n",
       "\n",
       "[129971 rows x 3 columns]"
      ]
     },
     "execution_count": 38,
     "metadata": {},
     "output_type": "execute_result"
    }
   ],
   "source": [
    "winemag.loc[:,[\"taster_name\",\"taster_twitter_handle\",\"points\"]]"
   ]
  },
  {
   "cell_type": "markdown",
   "id": "6f78717b",
   "metadata": {},
   "source": [
    "## Choosing Between loc and iloc\n",
    "\n",
    "When choosing or transitioning between loc and iloc, there is one \"gotcha\" worth keeping in mind, which is that the two methods use slightly different indexing schemes.\n",
    "\n",
    "iloc uses the Python stdlib indexing scheme, where the first element of the range is included and the last one excluded. So 0:10 will select entries 0,...,9. loc, meanwhile, indexes inclusively. So 0:10 will select entries 0,...,10.\n",
    "\n",
    "Why the change? Remember that loc can index any stdlib type: strings, for example. If we have a DataFrame with index values Apples, ..., Potatoes, ..., and we want to select \"all the alphabetical fruit choices between Apples and Potatoes\", then it's a lot more convenient to index df.loc['Apples':'Potatoes'] than it is to index something like df.loc['Apples', 'Potatoet'] (t coming after s in the alphabet).\n",
    "\n",
    "This is particularly confusing when the DataFrame index is a simple numerical list, e.g. 0,...,1000. In this case df.iloc[0:1000] will return 1000 entries, while df.loc[0:1000] return 1001 of them! To get 1000 elements using loc, you will need to go one lower and ask for df.loc[0:999].\n",
    "\n",
    "Otherwise, the semantics of using loc are the same as those for iloc."
   ]
  },
  {
   "cell_type": "markdown",
   "id": "fc82efb2",
   "metadata": {},
   "source": [
    "## Manipulating The Index"
   ]
  },
  {
   "cell_type": "markdown",
   "id": "fe48c23d",
   "metadata": {},
   "source": [
    "Label-based selection derives its power from the labels in the index. Critically, the index we use is not immutable. We can manipulate the index in any way we see fit.\n",
    "\n",
    "The set_index() method can be used to do the job. Here is what happens when we set_index to the title field:"
   ]
  },
  {
   "cell_type": "code",
   "execution_count": 40,
   "id": "e2426cae",
   "metadata": {},
   "outputs": [
    {
     "data": {
      "text/html": [
       "<div>\n",
       "<style scoped>\n",
       "    .dataframe tbody tr th:only-of-type {\n",
       "        vertical-align: middle;\n",
       "    }\n",
       "\n",
       "    .dataframe tbody tr th {\n",
       "        vertical-align: top;\n",
       "    }\n",
       "\n",
       "    .dataframe thead th {\n",
       "        text-align: right;\n",
       "    }\n",
       "</style>\n",
       "<table border=\"1\" class=\"dataframe\">\n",
       "  <thead>\n",
       "    <tr style=\"text-align: right;\">\n",
       "      <th></th>\n",
       "      <th>country</th>\n",
       "      <th>description</th>\n",
       "      <th>designation</th>\n",
       "      <th>points</th>\n",
       "      <th>price</th>\n",
       "      <th>province</th>\n",
       "      <th>region_1</th>\n",
       "      <th>region_2</th>\n",
       "      <th>taster_name</th>\n",
       "      <th>taster_twitter_handle</th>\n",
       "      <th>variety</th>\n",
       "      <th>winery</th>\n",
       "    </tr>\n",
       "    <tr>\n",
       "      <th>title</th>\n",
       "      <th></th>\n",
       "      <th></th>\n",
       "      <th></th>\n",
       "      <th></th>\n",
       "      <th></th>\n",
       "      <th></th>\n",
       "      <th></th>\n",
       "      <th></th>\n",
       "      <th></th>\n",
       "      <th></th>\n",
       "      <th></th>\n",
       "      <th></th>\n",
       "    </tr>\n",
       "  </thead>\n",
       "  <tbody>\n",
       "    <tr>\n",
       "      <th>Nicosia 2013 Vulkà Bianco  (Etna)</th>\n",
       "      <td>Italy</td>\n",
       "      <td>Aromas include tropical fruit, broom, brimston...</td>\n",
       "      <td>Vulkà Bianco</td>\n",
       "      <td>87</td>\n",
       "      <td>NaN</td>\n",
       "      <td>Sicily &amp; Sardinia</td>\n",
       "      <td>Etna</td>\n",
       "      <td>NaN</td>\n",
       "      <td>Kerin O’Keefe</td>\n",
       "      <td>@kerinokeefe</td>\n",
       "      <td>White Blend</td>\n",
       "      <td>Nicosia</td>\n",
       "    </tr>\n",
       "    <tr>\n",
       "      <th>Quinta dos Avidagos 2011 Avidagos Red (Douro)</th>\n",
       "      <td>Portugal</td>\n",
       "      <td>This is ripe and fruity, a wine that is smooth...</td>\n",
       "      <td>Avidagos</td>\n",
       "      <td>87</td>\n",
       "      <td>15.0</td>\n",
       "      <td>Douro</td>\n",
       "      <td>NaN</td>\n",
       "      <td>NaN</td>\n",
       "      <td>Roger Voss</td>\n",
       "      <td>@vossroger</td>\n",
       "      <td>Portuguese Red</td>\n",
       "      <td>Quinta dos Avidagos</td>\n",
       "    </tr>\n",
       "    <tr>\n",
       "      <th>...</th>\n",
       "      <td>...</td>\n",
       "      <td>...</td>\n",
       "      <td>...</td>\n",
       "      <td>...</td>\n",
       "      <td>...</td>\n",
       "      <td>...</td>\n",
       "      <td>...</td>\n",
       "      <td>...</td>\n",
       "      <td>...</td>\n",
       "      <td>...</td>\n",
       "      <td>...</td>\n",
       "      <td>...</td>\n",
       "    </tr>\n",
       "    <tr>\n",
       "      <th>Domaine Marcel Deiss 2012 Pinot Gris (Alsace)</th>\n",
       "      <td>France</td>\n",
       "      <td>A dry style of Pinot Gris, this is crisp with ...</td>\n",
       "      <td>NaN</td>\n",
       "      <td>90</td>\n",
       "      <td>32.0</td>\n",
       "      <td>Alsace</td>\n",
       "      <td>Alsace</td>\n",
       "      <td>NaN</td>\n",
       "      <td>Roger Voss</td>\n",
       "      <td>@vossroger</td>\n",
       "      <td>Pinot Gris</td>\n",
       "      <td>Domaine Marcel Deiss</td>\n",
       "    </tr>\n",
       "    <tr>\n",
       "      <th>Domaine Schoffit 2012 Lieu-dit Harth Cuvée Caroline Gewurztraminer (Alsace)</th>\n",
       "      <td>France</td>\n",
       "      <td>Big, rich and off-dry, this is powered by inte...</td>\n",
       "      <td>Lieu-dit Harth Cuvée Caroline</td>\n",
       "      <td>90</td>\n",
       "      <td>21.0</td>\n",
       "      <td>Alsace</td>\n",
       "      <td>Alsace</td>\n",
       "      <td>NaN</td>\n",
       "      <td>Roger Voss</td>\n",
       "      <td>@vossroger</td>\n",
       "      <td>Gewürztraminer</td>\n",
       "      <td>Domaine Schoffit</td>\n",
       "    </tr>\n",
       "  </tbody>\n",
       "</table>\n",
       "<p>129971 rows × 12 columns</p>\n",
       "</div>"
      ],
      "text/plain": [
       "                                                     country  \\\n",
       "title                                                          \n",
       "Nicosia 2013 Vulkà Bianco  (Etna)                      Italy   \n",
       "Quinta dos Avidagos 2011 Avidagos Red (Douro)       Portugal   \n",
       "...                                                      ...   \n",
       "Domaine Marcel Deiss 2012 Pinot Gris (Alsace)         France   \n",
       "Domaine Schoffit 2012 Lieu-dit Harth Cuvée Caro...    France   \n",
       "\n",
       "                                                                                          description  \\\n",
       "title                                                                                                   \n",
       "Nicosia 2013 Vulkà Bianco  (Etna)                   Aromas include tropical fruit, broom, brimston...   \n",
       "Quinta dos Avidagos 2011 Avidagos Red (Douro)       This is ripe and fruity, a wine that is smooth...   \n",
       "...                                                                                               ...   \n",
       "Domaine Marcel Deiss 2012 Pinot Gris (Alsace)       A dry style of Pinot Gris, this is crisp with ...   \n",
       "Domaine Schoffit 2012 Lieu-dit Harth Cuvée Caro...  Big, rich and off-dry, this is powered by inte...   \n",
       "\n",
       "                                                                      designation  \\\n",
       "title                                                                               \n",
       "Nicosia 2013 Vulkà Bianco  (Etna)                                    Vulkà Bianco   \n",
       "Quinta dos Avidagos 2011 Avidagos Red (Douro)                            Avidagos   \n",
       "...                                                                           ...   \n",
       "Domaine Marcel Deiss 2012 Pinot Gris (Alsace)                                 NaN   \n",
       "Domaine Schoffit 2012 Lieu-dit Harth Cuvée Caro...  Lieu-dit Harth Cuvée Caroline   \n",
       "\n",
       "                                                    points  price  \\\n",
       "title                                                               \n",
       "Nicosia 2013 Vulkà Bianco  (Etna)                       87    NaN   \n",
       "Quinta dos Avidagos 2011 Avidagos Red (Douro)           87   15.0   \n",
       "...                                                    ...    ...   \n",
       "Domaine Marcel Deiss 2012 Pinot Gris (Alsace)           90   32.0   \n",
       "Domaine Schoffit 2012 Lieu-dit Harth Cuvée Caro...      90   21.0   \n",
       "\n",
       "                                                             province  \\\n",
       "title                                                                   \n",
       "Nicosia 2013 Vulkà Bianco  (Etna)                   Sicily & Sardinia   \n",
       "Quinta dos Avidagos 2011 Avidagos Red (Douro)                   Douro   \n",
       "...                                                               ...   \n",
       "Domaine Marcel Deiss 2012 Pinot Gris (Alsace)                  Alsace   \n",
       "Domaine Schoffit 2012 Lieu-dit Harth Cuvée Caro...             Alsace   \n",
       "\n",
       "                                                   region_1 region_2  \\\n",
       "title                                                                  \n",
       "Nicosia 2013 Vulkà Bianco  (Etna)                      Etna      NaN   \n",
       "Quinta dos Avidagos 2011 Avidagos Red (Douro)           NaN      NaN   \n",
       "...                                                     ...      ...   \n",
       "Domaine Marcel Deiss 2012 Pinot Gris (Alsace)        Alsace      NaN   \n",
       "Domaine Schoffit 2012 Lieu-dit Harth Cuvée Caro...   Alsace      NaN   \n",
       "\n",
       "                                                      taster_name  \\\n",
       "title                                                               \n",
       "Nicosia 2013 Vulkà Bianco  (Etna)                   Kerin O’Keefe   \n",
       "Quinta dos Avidagos 2011 Avidagos Red (Douro)          Roger Voss   \n",
       "...                                                           ...   \n",
       "Domaine Marcel Deiss 2012 Pinot Gris (Alsace)          Roger Voss   \n",
       "Domaine Schoffit 2012 Lieu-dit Harth Cuvée Caro...     Roger Voss   \n",
       "\n",
       "                                                   taster_twitter_handle  \\\n",
       "title                                                                      \n",
       "Nicosia 2013 Vulkà Bianco  (Etna)                           @kerinokeefe   \n",
       "Quinta dos Avidagos 2011 Avidagos Red (Douro)                 @vossroger   \n",
       "...                                                                  ...   \n",
       "Domaine Marcel Deiss 2012 Pinot Gris (Alsace)                 @vossroger   \n",
       "Domaine Schoffit 2012 Lieu-dit Harth Cuvée Caro...            @vossroger   \n",
       "\n",
       "                                                           variety  \\\n",
       "title                                                                \n",
       "Nicosia 2013 Vulkà Bianco  (Etna)                      White Blend   \n",
       "Quinta dos Avidagos 2011 Avidagos Red (Douro)       Portuguese Red   \n",
       "...                                                            ...   \n",
       "Domaine Marcel Deiss 2012 Pinot Gris (Alsace)           Pinot Gris   \n",
       "Domaine Schoffit 2012 Lieu-dit Harth Cuvée Caro...  Gewürztraminer   \n",
       "\n",
       "                                                                  winery  \n",
       "title                                                                     \n",
       "Nicosia 2013 Vulkà Bianco  (Etna)                                Nicosia  \n",
       "Quinta dos Avidagos 2011 Avidagos Red (Douro)        Quinta dos Avidagos  \n",
       "...                                                                  ...  \n",
       "Domaine Marcel Deiss 2012 Pinot Gris (Alsace)       Domaine Marcel Deiss  \n",
       "Domaine Schoffit 2012 Lieu-dit Harth Cuvée Caro...      Domaine Schoffit  \n",
       "\n",
       "[129971 rows x 12 columns]"
      ]
     },
     "execution_count": 40,
     "metadata": {},
     "output_type": "execute_result"
    }
   ],
   "source": [
    "winemag.set_index(\"title\")"
   ]
  },
  {
   "cell_type": "code",
   "execution_count": null,
   "id": "32f61344",
   "metadata": {},
   "outputs": [],
   "source": []
  }
 ],
 "metadata": {
  "kernelspec": {
   "display_name": "Python 3 (ipykernel)",
   "language": "python",
   "name": "python3"
  },
  "language_info": {
   "codemirror_mode": {
    "name": "ipython",
    "version": 3
   },
   "file_extension": ".py",
   "mimetype": "text/x-python",
   "name": "python",
   "nbconvert_exporter": "python",
   "pygments_lexer": "ipython3",
   "version": "3.10.6"
  }
 },
 "nbformat": 4,
 "nbformat_minor": 5
}
