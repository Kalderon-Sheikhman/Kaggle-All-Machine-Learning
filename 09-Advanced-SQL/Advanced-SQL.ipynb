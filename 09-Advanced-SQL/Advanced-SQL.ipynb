{
 "cells": [
  {
   "cell_type": "markdown",
   "id": "396053ca-41fd-4a00-908c-8116852b7a14",
   "metadata": {},
   "source": [
    "# ADVANCED SQL\n",
    "## Joins and Unions"
   ]
  },
  {
   "cell_type": "markdown",
   "id": "ca0e6df6-4d9c-4b55-9e30-5338c3167dc5",
   "metadata": {},
   "source": [
    "Introduction\n",
    "\n",
    "In the Intro to SQL micro-course, you learned how to use INNER JOIN to consolidate information from two different tables. Now you'll learn about a few more types of JOIN, along with how to use UNIONs to pull information from multiple tables"
   ]
  },
  {
   "cell_type": "markdown",
   "id": "2051e8a1-9c98-4a55-af5f-cb1c44e30237",
   "metadata": {},
   "source": [
    "Along the way, we'll work with two imaginary tables, called owners and pets.\n",
    "\n",
    "two tables\n",
    "Each row of the owners table identifies a different pet owner, where the ID column is a unique identifier. The Pet_ID column (in the owners table) contains the ID for the pet that belongs to the owner (this number matches the ID for the pet from the pets table).\n",
    "\n",
    "For example,\n",
    "\n",
    "    the pets table shows that Dr. Harris Bonkers is the pet with ID 1.\n",
    "    The owners table shows that Aubrey Little is the owner of the pet with ID 1.\n",
    "Follow this link to see the image: https://storage.googleapis.com/kaggle-media/learn/images/dYVwS4T.png\n",
    "\n",
    "Putting these two facts together, Dr. Harris Bonkers is owned by Aubrey Little. Likewise, since Veronica Dunn does not have a corresponding Pet_ID, she does not have a pet. And, since 5 does not appear in the Pet_ID column, Maisie does not have an owner.JOINs\n",
    "\n",
    "Recall that we can use an INNER JOIN to pull rows from both tables where the value in the Pet_ID column in the owners table has a match in the ID column of the pets table.\n",
    "Follow this link to see an example of the usage of the JOINS: https://storage.googleapis.com/kaggle-media/learn/images/C5wimKT.png\n",
    "https://storage.googleapis.com/kaggle-media/learn/images/C5wimKT.png, brief interpretation"
   ]
  },
  {
   "cell_type": "markdown",
   "id": "9ce44515-c317-452f-8067-c5886be7bdb5",
   "metadata": {},
   "source": [
    "Replacing INNER JOIN in the query above with LEFT JOIN returns all rows where the two tables have matching entries, along with all of the rows in the left table (whether there is a match or not).\n",
    "\n",
    "If we instead use a RIGHT JOIN, we get the matching rows, along with all rows in the right table (whether there is a match or not).\n",
    "\n",
    "Finally, a FULL JOIN returns all rows from both tables. Note that in general, any row that does not have a match in both tables will have NULL entries for the missing values. You can see this in the image below.\n",
    "https://storage.googleapis.com/kaggle-media/learn/images/1Dvmg8S.png\n",
    "\n"
   ]
  },
  {
   "cell_type": "markdown",
   "id": "96c9f822-89d3-4303-8316-bfc571cd7ef0",
   "metadata": {},
   "source": [
    "# UNIONs\n",
    "\n",
    "As you've seen, JOINs horizontally combine results from different tables. If you instead would like to vertically concatenate columns, you can do so with a UNION. The example query below combines the Age columns from both tables\n",
    "This is how a query is written: https://storage.googleapis.com/kaggle-media/learn/images/oa6VDig.png\n",
    "\n",
    "Note that with a UNION, the data types of both columns must be the same, but the column names can be different. (So, for instance, we cannot take the UNION of the Age column from the owners table and the Pet_Name column from the pets table.)\n",
    "\n",
    "We use UNION ALL to include duplicate values - you'll notice that 9 appears in both the owners table and the pets table, and shows up twice in the concatenated results. If you'd like to drop duplicate values, you need only change UNION ALL in the query to UNION DISTINCT.\n",
    "\n",
    "Example\n",
    "\n",
    "We'll work with the Hacker News dataset. We begin by reviewing the first several rows of the comments table."
   ]
  },
  {
   "cell_type": "code",
   "execution_count": null,
   "id": "f7ba58fe-42ce-4110-8efa-0a6b023ae0e8",
   "metadata": {},
   "outputs": [],
   "source": []
  }
 ],
 "metadata": {
  "kernelspec": {
   "display_name": "Python 3 (ipykernel)",
   "language": "python",
   "name": "python3"
  },
  "language_info": {
   "codemirror_mode": {
    "name": "ipython",
    "version": 3
   },
   "file_extension": ".py",
   "mimetype": "text/x-python",
   "name": "python",
   "nbconvert_exporter": "python",
   "pygments_lexer": "ipython3",
   "version": "3.10.12"
  }
 },
 "nbformat": 4,
 "nbformat_minor": 5
}
