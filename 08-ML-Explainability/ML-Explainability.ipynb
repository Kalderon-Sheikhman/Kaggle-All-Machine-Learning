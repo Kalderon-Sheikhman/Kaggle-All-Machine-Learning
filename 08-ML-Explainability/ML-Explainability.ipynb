{
 "cells": [
  {
   "cell_type": "markdown",
   "id": "0843371e-38b0-4a15-8167-ff0568a1e6ac",
   "metadata": {},
   "source": [
    "# MACHINE LEARNING EXPLAINABILITY \n",
    "Use Cases for Model Insights\n",
    "Why and when do you need insights?"
   ]
  },
  {
   "cell_type": "markdown",
   "id": "3cb36a3e-1b4f-40b9-bedb-599cc2334bcf",
   "metadata": {},
   "source": [
    "What Types of Insights Are Possible\n",
    "\n",
    "Many people say machine learning models are \"black boxes\", in the sense that they can make good predictions but you can't understand the logic behind those predictions. This statement is true in the sense that most data scientists don't know how to extract insights from models yet.\n",
    "\n",
    "However, this micro-course will teach you techniques to extract the following insights from sophisticated machine learning models.\n",
    "\n",
    "    What features in the data did the model think are most important?\n",
    "    For any single prediction from a model, how did each feature in the data affect that particular prediction?\n",
    "    How does each feature affect the model's predictions in a big-picture sense (what is its typical effect when considered over a large number of possible predictions)?\n"
   ]
  },
  {
   "cell_type": "markdown",
   "id": "036349c3-e1f7-4d38-b828-c8bb46a85b45",
   "metadata": {},
   "source": [
    "Why Are These Insights Valuable\n",
    "\n",
    "These insights have many uses, including\n",
    "\n",
    "    Debugging\n",
    "    Informing feature engineering\n",
    "    Directing future data collection\n",
    "    Informing human decision-making\n",
    "    Building Trust\n"
   ]
  },
  {
   "cell_type": "markdown",
   "id": "8bea87ee-ee5c-4d62-b1a6-0807009383a9",
   "metadata": {},
   "source": [
    "Debugging\n",
    "\n",
    "The world has a lot of unreliable, disorganized and generally dirty data. You add a potential source of errors as you write preprocessing code. Add in the potential for target leakage, and it is the norm rather than the exception to have errors at some point in a real data science project.\n",
    "\n",
    "Given the frequency and potentially disastrous consequences of bugs, debugging is one of the most valuable skills in data science. Understanding the patterns a model is finding will help you identify when those are at odds with your knowledge of the real world, and this is typically the first step in tracking down bugs.\n"
   ]
  },
  {
   "cell_type": "markdown",
   "id": "b1e96add-eb14-49fe-8cbf-08d122b6fb2f",
   "metadata": {},
   "source": [
    "Informing Feature Engineering\n",
    "\n",
    "Feature engineering is usually the most effective way to improve model accuracy. Feature engineering usually involves repeatedly creating new features using transformations of your raw data or features you have previously created.\n",
    "\n",
    "Sometimes you can go through this process using nothing but intuition about the underlying topic. But you'll need more direction when you have 100s of raw features or when you lack background knowledge about the topic you are working on.\n",
    "\n",
    "A Kaggle competition to predict loan defaults gives an extreme example. This competition had 100s of raw features. For privacy reasons, the features had names like f1, f2, f3 rather than common English names. This simulated a scenario where you have little intuition about the raw data.\n",
    "\n",
    "One competitor found that the difference between two of the features, specificallyf527 - f528, created a very powerful new feature. Models including that difference as a feature were far better than models without it. But how might you think of creating this variable when you start with hundreds of variables?\n",
    "\n",
    "The techniques you'll learn in this micro-course would make it transparent that f527 and f528 are important features, and that their role is tightly entangled. This will direct you to consider transformations of these two variables, and likely find the \"golden feature\" of f527 - f528.\n",
    "\n",
    "As an increasing number of datasets start with 100s or 1000s of raw features, this approach is becoming increasingly important"
   ]
  },
  {
   "cell_type": "markdown",
   "id": "c2983a36-b143-4f21-8589-f8ecc745c1ce",
   "metadata": {},
   "source": [
    "Directing Future Data Collection\n",
    "\n",
    "You have no control over datasets you download online. But many businesses and organizations using data science have opportunities to expand what types of data they collect. Collecting new types of data can be expensive or inconvenient, so they only want to do this if they know it will be worthwhile. Model-based insights give you a good understanding of the value of features you currently have, which will help you reason about what new values may be most helpful.\n"
   ]
  },
  {
   "cell_type": "markdown",
   "id": "e06fc9db-2d95-4742-ba6d-18009bbec208",
   "metadata": {},
   "source": [
    "Informing Human Decision-Making\n",
    "\n",
    "Some decisions are made automatically by models. Amazon doesn't have humans (or elves) scurry to decide what to show you whenever you go to their website. But many important decisions are made by humans. For these decisions, insights can be more valuable than predictions."
   ]
  },
  {
   "cell_type": "markdown",
   "id": "c159aa08-47e0-4d57-a9cf-966628ccf026",
   "metadata": {},
   "source": [
    "Building Trust\n",
    "\n",
    "Many people won't assume they can trust your model for important decisions without verifying some basic facts. This is a smart precaution given the frequency of data errors. In practice, showing insights that fit their general understanding of the problem will help build trust, even among people with little deep knowledge of data science."
   ]
  }
 ],
 "metadata": {
  "kernelspec": {
   "display_name": "Python 3 (ipykernel)",
   "language": "python",
   "name": "python3"
  },
  "language_info": {
   "codemirror_mode": {
    "name": "ipython",
    "version": 3
   },
   "file_extension": ".py",
   "mimetype": "text/x-python",
   "name": "python",
   "nbconvert_exporter": "python",
   "pygments_lexer": "ipython3",
   "version": "3.10.12"
  }
 },
 "nbformat": 4,
 "nbformat_minor": 5
}
