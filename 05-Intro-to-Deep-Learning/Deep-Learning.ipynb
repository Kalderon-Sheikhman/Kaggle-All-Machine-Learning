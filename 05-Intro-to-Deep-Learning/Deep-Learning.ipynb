{
 "cells": [
  {
   "cell_type": "markdown",
   "id": "1eb92755",
   "metadata": {},
   "source": [
    "# SINGLE NEURON\n",
    "\n",
    "Learn about linear units, the building blocks of deep learning.\n",
    "\n"
   ]
  },
  {
   "cell_type": "markdown",
   "id": "7d060dd2",
   "metadata": {},
   "source": [
    "## Welcome to Deep Learning!\n",
    "Welcome to Kaggle's Introduction to Deep Learning course! You're about to learn all you need to get started building your own deep neural networks. Using Keras and Tensorflow you'll learn how to:\n",
    "\n",
    "create a fully-connected neural network architecture\n",
    "\n",
    "apply neural nets to two classic ML problems: regression and classification\n",
    "\n",
    "train neural nets with stochastic gradient descent, and\n",
    "\n",
    "improve performance with dropout, batch normalization, and other techniques\n",
    "The tutorials will introduce you to these topics with fully-worked examples, and then in the exercises, you'll explore these topics in more depth and apply them to real-world datasets.\n",
    "\n",
    "Let's get started!"
   ]
  },
  {
   "cell_type": "markdown",
   "id": "57d18a5e",
   "metadata": {},
   "source": [
    "What is Deep Learning?\n",
    "Some of the most impressive advances in artificial intelligence in recent years have been in the field of deep learning. Natural language translation, image recognition, and game playing are all tasks where deep learning models have neared or even exceeded human-level performance.\n",
    "\n",
    "So what is deep learning? Deep learning is an approach to machine learning characterized by deep stacks of computations. This depth of computation is what has enabled deep learning models to disentangle the kinds of complex and hierarchical patterns found in the most challenging real-world datasets.\n",
    "\n",
    "Through their power and scalability neural networks have become the defining model of deep learning. Neural networks are composed of neurons, where each neuron individually performs only a simple computation. The power of a neural network comes instead from the complexity of the connections these neurons can form.\n",
    "\n"
   ]
  },
  {
   "cell_type": "markdown",
   "id": "151988ef",
   "metadata": {},
   "source": [
    "## The Linear Unit\n",
    "So let's begin with the fundamental component of a neural network: the individual neuron. As a diagram, a neuron (or unit) with one input looks like:\n",
    "https://storage.googleapis.com/kaggle-media/learn/images/mfOlDR6.png"
   ]
  },
  {
   "cell_type": "markdown",
   "id": "97ada22f",
   "metadata": {},
   "source": [
    "The input is x. Its connection to the neuron has a weight which is w. Whenever a value flows through a connection, you multiply the value by the connection's weight. For the input x, what reaches the neuron is w * x. A neural network \"learns\" by modifying its weights.\n",
    "\n",
    "The b is a special kind of weight we call the bias. The bias doesn't have any input data associated with it; instead, we put a 1 in the diagram so that the value that reaches the neuron is just b (since 1 * b = b). The bias enables the neuron to modify the output independently of its inputs.\n",
    "\n",
    "The y is the value the neuron ultimately outputs. To get the output, the neuron sums up all the values it receives through its connections. This neuron's activation is y = w * x + b, or as a formula  y=wx+b\n",
    " .\n",
    "\n"
   ]
  },
  {
   "cell_type": "markdown",
   "id": "239534c7",
   "metadata": {},
   "source": [
    "Example - The Linear Unit as a Model\n",
    "Though individual neurons will usually only function as part of a larger network, it's often useful to start with a single neuron model as a baseline. Single neuron models are linear models.\n",
    "\n",
    "Let's think about how this might work on a dataset like 80 Cereals( https://www.kaggle.com/crawford/80-cereals). Training a model with 'sugars' (grams of sugars per serving) as input and 'calories' (calories per serving) as output, we might find the bias is b=90 and the weight is w=2.5. We could estimate the calorie content of a cereal with 5 grams of sugar per serving like this: View the visual representation.\n",
    "\n",
    "https://storage.googleapis.com/kaggle-media/learn/images/yjsfFvY.png\n",
    "And, checking against our formula, we have  calories=2.5×5+90=102.5\n",
    " , just like we expect.\n",
    "\n"
   ]
  },
  {
   "cell_type": "markdown",
   "id": "292ea7b1",
   "metadata": {},
   "source": [
    "### Multiple Inputs\n",
    "The 80 Cereals dataset has many more features than just 'sugars'. What if we wanted to expand our model to include things like fiber or protein content? That's easy enough. We can just add more input connections to the neuron, one for each additional feature. To find the output, we would multiply each input to its connection weight and then add them all together. Follow this link to better visualize how it must be done.\n",
    "https://storage.googleapis.com/kaggle-media/learn/images/vyXSnlZ.png\n",
    "\n",
    "The formula for this neuron would be  y=w0x0+w1x1+w2x2+b\n",
    " . A linear unit with two inputs will fit a plane, and a unit with more inputs than that will fit a hyperplane.\n",
    "\n",
    "\n",
    "\n"
   ]
  },
  {
   "cell_type": "markdown",
   "id": "0aedd6ac",
   "metadata": {},
   "source": [
    "#### Linear Units in Keras\n",
    "The easiest way to create a model in Keras is through keras.Sequential, which creates a neural network as a stack of layers. We can create models like those above using a dense layer (which we'll learn more about in the next lesson).\n",
    "\n",
    "We could define a linear model accepting three input features ('sugars', 'fiber', and 'protein') and producing a single output ('calories') like so:\n"
   ]
  },
  {
   "cell_type": "code",
   "execution_count": 1,
   "id": "a8c250ad",
   "metadata": {},
   "outputs": [
    {
     "name": "stderr",
     "output_type": "stream",
     "text": [
      "2023-08-14 16:54:52.687907: I tensorflow/tsl/cuda/cudart_stub.cc:28] Could not find cuda drivers on your machine, GPU will not be used.\n",
      "2023-08-14 16:54:56.282701: I tensorflow/tsl/cuda/cudart_stub.cc:28] Could not find cuda drivers on your machine, GPU will not be used.\n",
      "2023-08-14 16:54:56.289887: I tensorflow/core/platform/cpu_feature_guard.cc:182] This TensorFlow binary is optimized to use available CPU instructions in performance-critical operations.\n",
      "To enable the following instructions: AVX2 FMA, in other operations, rebuild TensorFlow with the appropriate compiler flags.\n",
      "2023-08-14 16:55:06.898327: W tensorflow/compiler/tf2tensorrt/utils/py_utils.cc:38] TF-TRT Warning: Could not find TensorRT\n"
     ]
    }
   ],
   "source": [
    "from tensorflow import keras\n",
    "from tensorflow.keras import layers\n",
    "\n",
    "#Create a network with 1 linear unit(neuron)\n",
    "\n",
    "model = keras.Sequential([\n",
    "    layers.Dense(units=1,input_shape=[3])\n",
    "])\n"
   ]
  },
  {
   "cell_type": "markdown",
   "id": "94693a13",
   "metadata": {},
   "source": [
    "With the first argument, units, we define how many outputs we want. In this case we are just predicting 'calories', so we'll use units=1.\n",
    "\n",
    "With the second argument, input_shape, we tell Keras the dimensions of the inputs. Setting input_shape=[3] ensures the model will accept three features as input ('sugars', 'fiber', and 'protein').\n",
    "\n",
    "This model is now ready to be fit to training data!\n",
    "\n"
   ]
  },
  {
   "cell_type": "markdown",
   "id": "c11c92a6",
   "metadata": {},
   "source": [
    "Why is input_shape a Python list?\n",
    "The data we'll use in this course will be tabular data, like in a Pandas dataframe. We'll have one input for each feature in the dataset. The features are arranged by column, so we'll always have input_shape=[num_columns]. The reason Keras uses a list here is to permit use of more complex datasets. Image data, for instance, might need three dimensions: [height, width, channels].\n"
   ]
  },
  {
   "cell_type": "code",
   "execution_count": 2,
   "id": "b0351cca",
   "metadata": {},
   "outputs": [
    {
     "name": "stdout",
     "output_type": "stream",
     "text": [
      "Collecting tensorrt\n",
      "  Downloading tensorrt-8.6.1.tar.gz (16 kB)\n",
      "  Preparing metadata (setup.py) ... \u001b[?25ldone\n",
      "\u001b[?25hBuilding wheels for collected packages: tensorrt\n",
      "  Building wheel for tensorrt (setup.py) ... \u001b[?25lerror\n",
      "  \u001b[1;31merror\u001b[0m: \u001b[1msubprocess-exited-with-error\u001b[0m\n",
      "  \n",
      "  \u001b[31m×\u001b[0m \u001b[32mpython setup.py bdist_wheel\u001b[0m did not run successfully.\n",
      "  \u001b[31m│\u001b[0m exit code: \u001b[1;36m1\u001b[0m\n",
      "  \u001b[31m╰─>\u001b[0m \u001b[31m[127 lines of output]\u001b[0m\n",
      "  \u001b[31m   \u001b[0m running bdist_wheel\n",
      "  \u001b[31m   \u001b[0m running build\n",
      "  \u001b[31m   \u001b[0m running build_py\n",
      "  \u001b[31m   \u001b[0m creating build\n",
      "  \u001b[31m   \u001b[0m creating build/lib\n",
      "  \u001b[31m   \u001b[0m creating build/lib/tensorrt\n",
      "  \u001b[31m   \u001b[0m copying tensorrt/__init__.py -> build/lib/tensorrt\n",
      "  \u001b[31m   \u001b[0m running egg_info\n",
      "  \u001b[31m   \u001b[0m writing tensorrt.egg-info/PKG-INFO\n",
      "  \u001b[31m   \u001b[0m writing dependency_links to tensorrt.egg-info/dependency_links.txt\n",
      "  \u001b[31m   \u001b[0m writing requirements to tensorrt.egg-info/requires.txt\n",
      "  \u001b[31m   \u001b[0m writing top-level names to tensorrt.egg-info/top_level.txt\n",
      "  \u001b[31m   \u001b[0m reading manifest file 'tensorrt.egg-info/SOURCES.txt'\n",
      "  \u001b[31m   \u001b[0m adding license file 'LICENSE.txt'\n",
      "  \u001b[31m   \u001b[0m writing manifest file 'tensorrt.egg-info/SOURCES.txt'\n",
      "  \u001b[31m   \u001b[0m /usr/lib/python3/dist-packages/setuptools/command/install.py:34: SetuptoolsDeprecationWarning: setup.py install is deprecated. Use build and pip and other standards-based tools.\n",
      "  \u001b[31m   \u001b[0m   warnings.warn(\n",
      "  \u001b[31m   \u001b[0m installing to build/bdist.linux-x86_64/wheel\n",
      "  \u001b[31m   \u001b[0m running install\n",
      "  \u001b[31m   \u001b[0m Looking in indexes: https://pypi.nvidia.com\n",
      "  \u001b[31m   \u001b[0m Collecting tensorrt_libs==8.6.1\n",
      "  \u001b[31m   \u001b[0m   Downloading https://pypi.nvidia.com/tensorrt-libs/tensorrt_libs-8.6.1-py2.py3-none-manylinux_2_17_x86_64.whl (824.8 MB)\n",
      "  \u001b[31m   \u001b[0m      ━                                      22.1/824.8 MB 164.8 kB/s eta 1:21:10\n",
      "  \u001b[31m   \u001b[0m ERROR: Exception:\n",
      "  \u001b[31m   \u001b[0m Traceback (most recent call last):\n",
      "  \u001b[31m   \u001b[0m   File \"/usr/local/lib/python3.10/dist-packages/pip/_vendor/urllib3/response.py\", line 438, in _error_catcher\n",
      "  \u001b[31m   \u001b[0m     yield\n",
      "  \u001b[31m   \u001b[0m   File \"/usr/local/lib/python3.10/dist-packages/pip/_vendor/urllib3/response.py\", line 561, in read\n",
      "  \u001b[31m   \u001b[0m     data = self._fp_read(amt) if not fp_closed else b\"\"\n",
      "  \u001b[31m   \u001b[0m   File \"/usr/local/lib/python3.10/dist-packages/pip/_vendor/urllib3/response.py\", line 527, in _fp_read\n",
      "  \u001b[31m   \u001b[0m     return self._fp.read(amt) if amt is not None else self._fp.read()\n",
      "  \u001b[31m   \u001b[0m   File \"/usr/local/lib/python3.10/dist-packages/pip/_vendor/cachecontrol/filewrapper.py\", line 90, in read\n",
      "  \u001b[31m   \u001b[0m     data = self.__fp.read(amt)\n",
      "  \u001b[31m   \u001b[0m   File \"/usr/lib/python3.10/http/client.py\", line 466, in read\n",
      "  \u001b[31m   \u001b[0m     s = self.fp.read(amt)\n",
      "  \u001b[31m   \u001b[0m   File \"/usr/lib/python3.10/socket.py\", line 705, in readinto\n",
      "  \u001b[31m   \u001b[0m     return self._sock.recv_into(b)\n",
      "  \u001b[31m   \u001b[0m   File \"/usr/lib/python3.10/ssl.py\", line 1274, in recv_into\n",
      "  \u001b[31m   \u001b[0m     return self.read(nbytes, buffer)\n",
      "  \u001b[31m   \u001b[0m   File \"/usr/lib/python3.10/ssl.py\", line 1130, in read\n",
      "  \u001b[31m   \u001b[0m     return self._sslobj.read(len, buffer)\n",
      "  \u001b[31m   \u001b[0m TimeoutError: The read operation timed out\n",
      "  \u001b[31m   \u001b[0m \n",
      "  \u001b[31m   \u001b[0m During handling of the above exception, another exception occurred:\n",
      "  \u001b[31m   \u001b[0m \n",
      "  \u001b[31m   \u001b[0m Traceback (most recent call last):\n",
      "  \u001b[31m   \u001b[0m   File \"/usr/local/lib/python3.10/dist-packages/pip/_internal/cli/base_command.py\", line 180, in exc_logging_wrapper\n",
      "  \u001b[31m   \u001b[0m     status = run_func(*args)\n",
      "  \u001b[31m   \u001b[0m   File \"/usr/local/lib/python3.10/dist-packages/pip/_internal/cli/req_command.py\", line 248, in wrapper\n",
      "  \u001b[31m   \u001b[0m     return func(self, options, args)\n",
      "  \u001b[31m   \u001b[0m   File \"/usr/local/lib/python3.10/dist-packages/pip/_internal/commands/install.py\", line 377, in run\n",
      "  \u001b[31m   \u001b[0m     requirement_set = resolver.resolve(\n",
      "  \u001b[31m   \u001b[0m   File \"/usr/local/lib/python3.10/dist-packages/pip/_internal/resolution/resolvelib/resolver.py\", line 92, in resolve\n",
      "  \u001b[31m   \u001b[0m     result = self._result = resolver.resolve(\n",
      "  \u001b[31m   \u001b[0m   File \"/usr/local/lib/python3.10/dist-packages/pip/_vendor/resolvelib/resolvers.py\", line 546, in resolve\n",
      "  \u001b[31m   \u001b[0m     state = resolution.resolve(requirements, max_rounds=max_rounds)\n",
      "  \u001b[31m   \u001b[0m   File \"/usr/local/lib/python3.10/dist-packages/pip/_vendor/resolvelib/resolvers.py\", line 397, in resolve\n",
      "  \u001b[31m   \u001b[0m     self._add_to_criteria(self.state.criteria, r, parent=None)\n",
      "  \u001b[31m   \u001b[0m   File \"/usr/local/lib/python3.10/dist-packages/pip/_vendor/resolvelib/resolvers.py\", line 173, in _add_to_criteria\n",
      "  \u001b[31m   \u001b[0m     if not criterion.candidates:\n",
      "  \u001b[31m   \u001b[0m   File \"/usr/local/lib/python3.10/dist-packages/pip/_vendor/resolvelib/structs.py\", line 156, in __bool__\n",
      "  \u001b[31m   \u001b[0m     return bool(self._sequence)\n",
      "  \u001b[31m   \u001b[0m   File \"/usr/local/lib/python3.10/dist-packages/pip/_internal/resolution/resolvelib/found_candidates.py\", line 155, in __bool__\n",
      "  \u001b[31m   \u001b[0m     return any(self)\n",
      "  \u001b[31m   \u001b[0m   File \"/usr/local/lib/python3.10/dist-packages/pip/_internal/resolution/resolvelib/found_candidates.py\", line 143, in <genexpr>\n",
      "  \u001b[31m   \u001b[0m     return (c for c in iterator if id(c) not in self._incompatible_ids)\n",
      "  \u001b[31m   \u001b[0m   File \"/usr/local/lib/python3.10/dist-packages/pip/_internal/resolution/resolvelib/found_candidates.py\", line 47, in _iter_built\n",
      "  \u001b[31m   \u001b[0m     candidate = func()\n",
      "  \u001b[31m   \u001b[0m   File \"/usr/local/lib/python3.10/dist-packages/pip/_internal/resolution/resolvelib/factory.py\", line 206, in _make_candidate_from_link\n",
      "  \u001b[31m   \u001b[0m     self._link_candidate_cache[link] = LinkCandidate(\n",
      "  \u001b[31m   \u001b[0m   File \"/usr/local/lib/python3.10/dist-packages/pip/_internal/resolution/resolvelib/candidates.py\", line 293, in __init__\n",
      "  \u001b[31m   \u001b[0m     super().__init__(\n",
      "  \u001b[31m   \u001b[0m   File \"/usr/local/lib/python3.10/dist-packages/pip/_internal/resolution/resolvelib/candidates.py\", line 156, in __init__\n",
      "  \u001b[31m   \u001b[0m     self.dist = self._prepare()\n",
      "  \u001b[31m   \u001b[0m   File \"/usr/local/lib/python3.10/dist-packages/pip/_internal/resolution/resolvelib/candidates.py\", line 225, in _prepare\n",
      "  \u001b[31m   \u001b[0m     dist = self._prepare_distribution()\n",
      "  \u001b[31m   \u001b[0m   File \"/usr/local/lib/python3.10/dist-packages/pip/_internal/resolution/resolvelib/candidates.py\", line 304, in _prepare_distribution\n",
      "  \u001b[31m   \u001b[0m     return preparer.prepare_linked_requirement(self._ireq, parallel_builds=True)\n",
      "  \u001b[31m   \u001b[0m   File \"/usr/local/lib/python3.10/dist-packages/pip/_internal/operations/prepare.py\", line 538, in prepare_linked_requirement\n",
      "  \u001b[31m   \u001b[0m     return self._prepare_linked_requirement(req, parallel_builds)\n",
      "  \u001b[31m   \u001b[0m   File \"/usr/local/lib/python3.10/dist-packages/pip/_internal/operations/prepare.py\", line 609, in _prepare_linked_requirement\n",
      "  \u001b[31m   \u001b[0m     local_file = unpack_url(\n",
      "  \u001b[31m   \u001b[0m   File \"/usr/local/lib/python3.10/dist-packages/pip/_internal/operations/prepare.py\", line 166, in unpack_url\n",
      "  \u001b[31m   \u001b[0m     file = get_http_url(\n",
      "  \u001b[31m   \u001b[0m   File \"/usr/local/lib/python3.10/dist-packages/pip/_internal/operations/prepare.py\", line 107, in get_http_url\n",
      "  \u001b[31m   \u001b[0m     from_path, content_type = download(link, temp_dir.path)\n",
      "  \u001b[31m   \u001b[0m   File \"/usr/local/lib/python3.10/dist-packages/pip/_internal/network/download.py\", line 147, in __call__\n",
      "  \u001b[31m   \u001b[0m     for chunk in chunks:\n",
      "  \u001b[31m   \u001b[0m   File \"/usr/local/lib/python3.10/dist-packages/pip/_internal/cli/progress_bars.py\", line 53, in _rich_progress_bar\n",
      "  \u001b[31m   \u001b[0m     for chunk in iterable:\n",
      "  \u001b[31m   \u001b[0m   File \"/usr/local/lib/python3.10/dist-packages/pip/_internal/network/utils.py\", line 63, in response_chunks\n",
      "  \u001b[31m   \u001b[0m     for chunk in response.raw.stream(\n",
      "  \u001b[31m   \u001b[0m   File \"/usr/local/lib/python3.10/dist-packages/pip/_vendor/urllib3/response.py\", line 622, in stream\n",
      "  \u001b[31m   \u001b[0m     data = self.read(amt=amt, decode_content=decode_content)\n",
      "  \u001b[31m   \u001b[0m   File \"/usr/local/lib/python3.10/dist-packages/pip/_vendor/urllib3/response.py\", line 560, in read\n",
      "  \u001b[31m   \u001b[0m     with self._error_catcher():\n",
      "  \u001b[31m   \u001b[0m   File \"/usr/lib/python3.10/contextlib.py\", line 153, in __exit__\n",
      "  \u001b[31m   \u001b[0m     self.gen.throw(typ, value, traceback)\n",
      "  \u001b[31m   \u001b[0m   File \"/usr/local/lib/python3.10/dist-packages/pip/_vendor/urllib3/response.py\", line 443, in _error_catcher\n",
      "  \u001b[31m   \u001b[0m     raise ReadTimeoutError(self._pool, None, \"Read timed out.\")\n",
      "  \u001b[31m   \u001b[0m pip._vendor.urllib3.exceptions.ReadTimeoutError: HTTPSConnectionPool(host='pypi.nvidia.com', port=443): Read timed out.\n",
      "  \u001b[31m   \u001b[0m Traceback (most recent call last):\n",
      "  \u001b[31m   \u001b[0m   File \"<string>\", line 2, in <module>\n",
      "  \u001b[31m   \u001b[0m   File \"<pip-setuptools-caller>\", line 34, in <module>\n",
      "  \u001b[31m   \u001b[0m   File \"/tmp/pip-install-lcx81abp/tensorrt_c235dbedfdfd4bc29cb92b2409dbd539/setup.py\", line 49, in <module>\n",
      "  \u001b[31m   \u001b[0m     setup(\n",
      "  \u001b[31m   \u001b[0m   File \"/usr/lib/python3/dist-packages/setuptools/__init__.py\", line 153, in setup\n",
      "  \u001b[31m   \u001b[0m     return distutils.core.setup(**attrs)\n",
      "  \u001b[31m   \u001b[0m   File \"/usr/lib/python3.10/distutils/core.py\", line 148, in setup\n",
      "  \u001b[31m   \u001b[0m     dist.run_commands()\n",
      "  \u001b[31m   \u001b[0m   File \"/usr/lib/python3.10/distutils/dist.py\", line 966, in run_commands\n",
      "  \u001b[31m   \u001b[0m     self.run_command(cmd)\n",
      "  \u001b[31m   \u001b[0m   File \"/usr/lib/python3.10/distutils/dist.py\", line 985, in run_command\n",
      "  \u001b[31m   \u001b[0m     cmd_obj.run()\n",
      "  \u001b[31m   \u001b[0m   File \"/usr/lib/python3/dist-packages/wheel/bdist_wheel.py\", line 335, in run\n",
      "  \u001b[31m   \u001b[0m     self.run_command('install')\n",
      "  \u001b[31m   \u001b[0m   File \"/usr/lib/python3.10/distutils/cmd.py\", line 313, in run_command\n",
      "  \u001b[31m   \u001b[0m     self.distribution.run_command(command)\n",
      "  \u001b[31m   \u001b[0m   File \"/usr/lib/python3.10/distutils/dist.py\", line 985, in run_command\n",
      "  \u001b[31m   \u001b[0m     cmd_obj.run()\n",
      "  \u001b[31m   \u001b[0m   File \"/tmp/pip-install-lcx81abp/tensorrt_c235dbedfdfd4bc29cb92b2409dbd539/setup.py\", line 43, in run\n",
      "  \u001b[31m   \u001b[0m     install_dep(\"{:}_libs\".format(tensorrt_module))\n",
      "  \u001b[31m   \u001b[0m   File \"/tmp/pip-install-lcx81abp/tensorrt_c235dbedfdfd4bc29cb92b2409dbd539/setup.py\", line 41, in install_dep\n",
      "  \u001b[31m   \u001b[0m     status.check_returncode()\n",
      "  \u001b[31m   \u001b[0m   File \"/usr/lib/python3.10/subprocess.py\", line 457, in check_returncode\n",
      "  \u001b[31m   \u001b[0m     raise CalledProcessError(self.returncode, self.args, self.stdout,\n",
      "  \u001b[31m   \u001b[0m subprocess.CalledProcessError: Command '['/usr/bin/python3', '-m', 'pip', 'install', 'tensorrt_libs==8.6.1', '--index-url', 'https://pypi.nvidia.com']' returned non-zero exit status 2.\n",
      "  \u001b[31m   \u001b[0m \u001b[31m[end of output]\u001b[0m\n",
      "  \n",
      "  \u001b[1;35mnote\u001b[0m: This error originates from a subprocess, and is likely not a problem with pip.\n",
      "\u001b[31m  ERROR: Failed building wheel for tensorrt\u001b[0m\u001b[31m\n",
      "\u001b[0m\u001b[?25h  Running setup.py clean for tensorrt\n"
     ]
    },
    {
     "name": "stdout",
     "output_type": "stream",
     "text": [
      "Failed to build tensorrt\n",
      "\u001b[31mERROR: Could not build wheels for tensorrt, which is required to install pyproject.toml-based projects\u001b[0m\u001b[31m\n",
      "\u001b[0mNote: you may need to restart the kernel to use updated packages.\n"
     ]
    }
   ],
   "source": [
    "pip install tensorrt"
   ]
  },
  {
   "cell_type": "markdown",
   "id": "37bffb30",
   "metadata": {},
   "source": [
    "# MAKE YOUR MODELS DEEP\n",
    "\n",
    "## Introduction\n",
    "In this lesson we're going to see how we can build neural networks capable of learning the complex kinds of relationships deep neural nets are famous for.\n",
    "\n",
    "The key idea here is modularity, building up a complex network from simpler functional units. We've seen how a linear unit computes a linear function -- now we'll see how to combine and modify these single units to model more complex relationships.\n",
    "\n"
   ]
  },
  {
   "cell_type": "markdown",
   "id": "a174e69a",
   "metadata": {},
   "source": [
    "### LAYERS\n",
    "\n",
    "Neural networks typically organize their neurons into layers. When we collect together linear units having a common set of inputs we get a dense layer. View this image to grasp the visual representation described above:\n",
    "\n",
    "https://storage.googleapis.com/kaggle-media/learn/images/2MA4iMV.png\n",
    "(Linear Networks with two inputs and a bias)\n",
    "\n",
    "You could think of each layer in a neural network as performing some kind of relatively simple transformation. Through a deep stack of layers, a neural network can transform its inputs in more and more complex ways. In a well-trained neural network, each layer is a transformation getting us a little bit closer to a solution.\n",
    "\n",
    "A \"layer\" in Keras is a very general kind of thing. A layer can be, essentially, any kind of data transformation. Many layers, like the convolutional and recurrent layers, transform data through use of neurons and differ primarily in the pattern of connections they form. Others though are used for feature engineering or just simple arithmetic. There's a whole world of layers to discover -- check them out!\n",
    "\n"
   ]
  },
  {
   "cell_type": "markdown",
   "id": "0493a01e",
   "metadata": {},
   "source": [
    "### Activation Function\n",
    "\n",
    "It turns out, however, that two dense layers with nothing in between are no better than a single dense layer by itself. Dense layers by themselves can never move us out of the world of lines and planes. What we need is something nonlinear. What we need are activation functions.\n",
    "\n",
    "https://storage.googleapis.com/kaggle-media/learn/images/OLSUEYT.png\n",
    "\n",
    "######  Without activation functions, neural networks can only learn linear relationships. In order to fit curves, we'll need to use activation functions.\n",
    "\n",
    "An activation function is simply some function we apply to each of a layer's outputs (its activations). The most common is the rectifier function  max(0,x)\n",
    "Visually represented below:\n",
    "https://storage.googleapis.com/kaggle-media/learn/images/aeIyAlF.png\n",
    "\n",
    "The rectifier function has a graph that's a line with the negative part \"rectified\" to zero. Applying the function to the outputs of a neuron will put a bend in the data, moving us away from simple lines.\n",
    "\n",
    "When we attach the rectifier to a linear unit, we get a rectified linear unit or ReLU. (For this reason, it's common to call the rectifier function the \"ReLU function\".) Applying a ReLU activation to a linear unit means the output becomes max(0, w * x + b), which we might draw in a diagram like:\n",
    "\n",
    "https://storage.googleapis.com/kaggle-media/learn/images/eFry7Yu.png\n",
    " ."
   ]
  },
  {
   "cell_type": "markdown",
   "id": "1d64085e",
   "metadata": {},
   "source": [
    "## STACKING DENSE LAYERS\n",
    "\n",
    "Now that we have some nonlinearity, let's see how we can stack layers to get complex data transformations.\n",
    "It is represented in the image below:\n",
    "https://storage.googleapis.com/kaggle-media/learn/images/Y5iwFQZ.png\n",
    "(A stack of dense layers make a \"fully connected neural network)\n",
    "\n",
    "### Building Sequential Models\n",
    "\n",
    "The Sequential model we've been using will connect together a list of layers in order from first to last: the first layer gets the input, the last layer produces the output. This creates the model in the figure above:"
   ]
  },
  {
   "cell_type": "code",
   "execution_count": 2,
   "id": "3969bedb",
   "metadata": {},
   "outputs": [],
   "source": [
    "from tensorflow import keras\n",
    "from tensorflow.keras import layers\n",
    "\n",
    "model = keras.Sequential([\n",
    "    #hidden 'relu' layers\n",
    "    layers.Dense(units=4, activation='relu',input_shape=[2]),\n",
    "    layers.Dense(units=3, activation='relu'),\n",
    "    #linear unit\n",
    "    layers.Dense(units=1),\n",
    "])"
   ]
  },
  {
   "cell_type": "code",
   "execution_count": 4,
   "id": "37fc7e61",
   "metadata": {},
   "outputs": [],
   "source": [
    "#Another way to write activation functions\n",
    "model = keras.Sequential([\n",
    "    layers.Dense(units=32, input_shape=[8]),\n",
    "    layers.Activation('relu'),\n",
    "    layers.Dense(32),\n",
    "    layers.Activation('relu'),\n",
    "    layers.Dense(1),\n",
    "])"
   ]
  },
  {
   "cell_type": "markdown",
   "id": "04c914d4",
   "metadata": {},
   "source": [
    "# STOCHASTIC GRADIENT DESCENT\n",
    "\n",
    "#### Introduction¶\n",
    "In the first two lessons, we learned how to build fully-connected networks out of stacks of dense layers. When first created, all of the network's weights are set randomly -- the network doesn't \"know\" anything yet. In this lesson we're going to see how to train a neural network; we're going to see how neural networks learn.\n",
    "\n",
    "As with all machine learning tasks, we begin with a set of training data. Each example in the training data consists of some features (the inputs) together with an expected target (the output). Training the network means adjusting its weights in such a way that it can transform the features into the target. In the 80 Cereals dataset, for instance, we want a network that can take each cereal's 'sugar', 'fiber', and 'protein' content and produce a prediction for that cereal's 'calories'. If we can successfully train a network to do that, its weights must represent in some way the relationship between those features and that target as expressed in the training data.\n",
    "\n",
    "In addition to the training data, we need two more things:\n",
    "\n",
    "#### A \"loss function\" that measures how good the network's predictions are.\n",
    "##### An \"optimizer\" that can tell the network how to change its weights.\n",
    "\n",
    "\n"
   ]
  },
  {
   "cell_type": "markdown",
   "id": "b3049f0c",
   "metadata": {},
   "source": [
    "#####  The Loss Function\n",
    "We've seen how to design an architecture for a network, but we haven't seen how to tell a network what problem to solve. This is the job of the loss function.\n",
    "\n",
    "The loss function measures the disparity between the the target's true value and the value the model predicts.\n",
    "\n",
    "Different problems call for different loss functions. We have been looking at regression problems, where the task is to predict some numerical value -- calories in 80 Cereals, rating in Red Wine Quality. Other regression tasks might be predicting the price of a house or the fuel efficiency of a car.\n",
    "\n",
    "A common loss function for regression problems is the mean absolute error or MAE. For each prediction y_pred, MAE measures the disparity from the true target y_true by an absolute difference abs(y_true - y_pred).\n",
    "\n",
    "The total MAE loss on a dataset is the mean of all these absolute differences.\n",
    "\n",
    "https://storage.googleapis.com/kaggle-media/learn/images/VDcvkZN.png\n",
    "The mean absolute error is the average length between the fitted curve and the data points.)"
   ]
  },
  {
   "cell_type": "markdown",
   "id": "f3529e91",
   "metadata": {},
   "source": [
    "Besides MAE, other loss functions you might see for regression problems are the mean-squared error (MSE) or the Huber loss (both available in Keras).\n",
    "\n",
    "During training, the model will use the loss function as a guide for finding the correct values of its weights (lower loss is better). In other words, the loss function tells the network its objective.\n",
    "\n"
   ]
  },
  {
   "cell_type": "markdown",
   "id": "c6b45aa6",
   "metadata": {},
   "source": [
    "The Optimizer - Stochastic Gradient Descent\n",
    "We've described the problem we want the network to solve, but now we need to say how to solve it. This is the job of the optimizer. The optimizer is an algorithm that adjusts the weights to minimize the loss.\n",
    "\n",
    "Virtually all of the optimization algorithms used in deep learning belong to a family called stochastic gradient descent. They are iterative algorithms that train a network in steps. One step of training goes like this:\n",
    "\n",
    "Sample some training data and run it through the network to make predictions.\n",
    "\n",
    "Measure the loss between the predictions and the true values.\n",
    "\n",
    "Finally, adjust the weights in a direction that makes the loss smaller.\n",
    "\n",
    "Then just do this over and over until the loss is as small as you like (or until it won't decrease any further.)\n",
    "View a video of how the stochastic gradient descent works.\n",
    "\n",
    "(https://storage.googleapis.com/kaggle-media/learn/images/rFI1tIk.gif)\n"
   ]
  },
  {
   "cell_type": "markdown",
   "id": "c3947a0a",
   "metadata": {},
   "source": [
    "Each iteration's sample of training data is called a minibatch (or often just \"batch\"), while a complete round of the training data is called an epoch. The number of epochs you train for is how many times the network will see each training example.\n",
    "\n",
    "The animation shows the linear model from Lesson 1 being trained with SGD. The pale red dots depict the entire training set, while the solid red dots are the minibatches. Every time SGD sees a new minibatch, it will shift the weights (w the slope and b the y-intercept) toward their correct values on that batch. Batch after batch, the line eventually converges to its best fit. You can see that the loss gets smaller as the weights get closer to their true values."
   ]
  },
  {
   "cell_type": "markdown",
   "id": "f574a990",
   "metadata": {},
   "source": [
    "### Learning Rate and Batch Size\n",
    "Notice that the line only makes a small shift in the direction of each batch (instead of moving all the way). The size of these shifts is determined by the learning rate. A smaller learning rate means the network needs to see more minibatches before its weights converge to their best values.\n",
    "\n",
    "The learning rate and the size of the minibatches are the two parameters that have the largest effect on how the SGD training proceeds. Their interaction is often subtle and the right choice for these parameters isn't always obvious. (We'll explore these effects in the exercise.)\n",
    "\n",
    "Fortunately, for most work it won't be necessary to do an extensive hyperparameter search to get satisfactory results. Adam is an SGD algorithm that has an adaptive learning rate that makes it suitable for most problems without any parameter tuning (it is \"self tuning\", in a sense). ADAM is a great general-purpose optimizer.\n",
    "\n"
   ]
  },
  {
   "cell_type": "markdown",
   "id": "f8d45e8b",
   "metadata": {},
   "source": [
    "#### Adding the Loss and Optimizer\n",
    "After defining a model, you can add a loss function and optimizer with the model's compile method:\n",
    "\n"
   ]
  },
  {
   "cell_type": "code",
   "execution_count": 5,
   "id": "64418040",
   "metadata": {},
   "outputs": [],
   "source": [
    "model.compile(\n",
    "optimizer='adam',loss=\"mae\")"
   ]
  },
  {
   "cell_type": "markdown",
   "id": "fadff8d7",
   "metadata": {},
   "source": [
    "Notice that we are able to specify the loss and optimizer with just a string. You can also access these directly through the Keras API -- if you wanted to tune parameters, for instance -- but for us, the defaults will work fine.\n",
    "Notice that we are able to specify the loss and optimizer with just a string. You can also access these directly through the Keras API -- if you wanted to tune parameters, for instance -- but for us, the defaults will work fine.\n",
    "\n",
    "\n",
    "\n"
   ]
  },
  {
   "cell_type": "markdown",
   "id": "33b49280",
   "metadata": {},
   "source": [
    "#### What's In a Name?\n",
    "The gradient is a vector that tells us in what direction the weights need to go. More precisely, it tells us how to change the weights to make the loss change fastest. We call our process gradient descent because it uses the gradient to descend the loss curve towards a minimum. Stochastic means \"determined by chance.\" Our training is stochastic because the minibatches are random samples from the dataset. And that's why it's called SGD"
   ]
  },
  {
   "cell_type": "markdown",
   "id": "789d5582",
   "metadata": {},
   "source": [
    "### Example - Red Wine Quality\n",
    "Now we know everything we need to start training deep learning models. So let's see it in action! We'll use the Red Wine Quality dataset.\n",
    "\n",
    "This dataset consists of physiochemical measurements from about 1600 Portuguese red wines. Also included is a quality rating for each wine from blind taste-tests. How well can we predict a wine's perceived quality from these measurements?\n",
    "\n",
    "We've put all of the data preparation into this next hidden cell. It's not essential to what follows so feel free to skip it. One thing you might note for now though is that we've rescaled each feature to lie in the interval  [0,1]\n",
    " . As we'll discuss more in Lesson 5, neural networks tend to perform best when their inputs are on a common scale."
   ]
  },
  {
   "cell_type": "code",
   "execution_count": 6,
   "id": "64b6be46",
   "metadata": {},
   "outputs": [
    {
     "data": {
      "text/html": [
       "<div>\n",
       "<style scoped>\n",
       "    .dataframe tbody tr th:only-of-type {\n",
       "        vertical-align: middle;\n",
       "    }\n",
       "\n",
       "    .dataframe tbody tr th {\n",
       "        vertical-align: top;\n",
       "    }\n",
       "\n",
       "    .dataframe thead th {\n",
       "        text-align: right;\n",
       "    }\n",
       "</style>\n",
       "<table border=\"1\" class=\"dataframe\">\n",
       "  <thead>\n",
       "    <tr style=\"text-align: right;\">\n",
       "      <th></th>\n",
       "      <th>fixed acidity</th>\n",
       "      <th>volatile acidity</th>\n",
       "      <th>citric acid</th>\n",
       "      <th>residual sugar</th>\n",
       "      <th>chlorides</th>\n",
       "      <th>free sulfur dioxide</th>\n",
       "      <th>total sulfur dioxide</th>\n",
       "      <th>density</th>\n",
       "      <th>pH</th>\n",
       "      <th>sulphates</th>\n",
       "      <th>alcohol</th>\n",
       "      <th>quality</th>\n",
       "    </tr>\n",
       "  </thead>\n",
       "  <tbody>\n",
       "    <tr>\n",
       "      <th>1109</th>\n",
       "      <td>10.8</td>\n",
       "      <td>0.470</td>\n",
       "      <td>0.43</td>\n",
       "      <td>2.10</td>\n",
       "      <td>0.171</td>\n",
       "      <td>27.0</td>\n",
       "      <td>66.0</td>\n",
       "      <td>0.99820</td>\n",
       "      <td>3.17</td>\n",
       "      <td>0.76</td>\n",
       "      <td>10.8</td>\n",
       "      <td>6</td>\n",
       "    </tr>\n",
       "    <tr>\n",
       "      <th>1032</th>\n",
       "      <td>8.1</td>\n",
       "      <td>0.820</td>\n",
       "      <td>0.00</td>\n",
       "      <td>4.10</td>\n",
       "      <td>0.095</td>\n",
       "      <td>5.0</td>\n",
       "      <td>14.0</td>\n",
       "      <td>0.99854</td>\n",
       "      <td>3.36</td>\n",
       "      <td>0.53</td>\n",
       "      <td>9.6</td>\n",
       "      <td>5</td>\n",
       "    </tr>\n",
       "    <tr>\n",
       "      <th>1002</th>\n",
       "      <td>9.1</td>\n",
       "      <td>0.290</td>\n",
       "      <td>0.33</td>\n",
       "      <td>2.05</td>\n",
       "      <td>0.063</td>\n",
       "      <td>13.0</td>\n",
       "      <td>27.0</td>\n",
       "      <td>0.99516</td>\n",
       "      <td>3.26</td>\n",
       "      <td>0.84</td>\n",
       "      <td>11.7</td>\n",
       "      <td>7</td>\n",
       "    </tr>\n",
       "    <tr>\n",
       "      <th>487</th>\n",
       "      <td>10.2</td>\n",
       "      <td>0.645</td>\n",
       "      <td>0.36</td>\n",
       "      <td>1.80</td>\n",
       "      <td>0.053</td>\n",
       "      <td>5.0</td>\n",
       "      <td>14.0</td>\n",
       "      <td>0.99820</td>\n",
       "      <td>3.17</td>\n",
       "      <td>0.42</td>\n",
       "      <td>10.0</td>\n",
       "      <td>6</td>\n",
       "    </tr>\n",
       "  </tbody>\n",
       "</table>\n",
       "</div>"
      ],
      "text/plain": [
       "      fixed acidity  volatile acidity  citric acid  residual sugar  chlorides  \\\n",
       "1109           10.8             0.470         0.43            2.10      0.171   \n",
       "1032            8.1             0.820         0.00            4.10      0.095   \n",
       "1002            9.1             0.290         0.33            2.05      0.063   \n",
       "487            10.2             0.645         0.36            1.80      0.053   \n",
       "\n",
       "      free sulfur dioxide  total sulfur dioxide  density    pH  sulphates  \\\n",
       "1109                 27.0                  66.0  0.99820  3.17       0.76   \n",
       "1032                  5.0                  14.0  0.99854  3.36       0.53   \n",
       "1002                 13.0                  27.0  0.99516  3.26       0.84   \n",
       "487                   5.0                  14.0  0.99820  3.17       0.42   \n",
       "\n",
       "      alcohol  quality  \n",
       "1109     10.8        6  \n",
       "1032      9.6        5  \n",
       "1002     11.7        7  \n",
       "487      10.0        6  "
      ]
     },
     "metadata": {},
     "output_type": "display_data"
    }
   ],
   "source": [
    "import pandas as pd\n",
    "from IPython.display import display\n",
    "\n",
    "red_wine = pd.read_csv(\"./red-wine.csv\")\n",
    "\n",
    "#Create Training and validation \n",
    "df_train = red_wine.sample(frac=0.7,random_state=0)\n",
    "df_valid = red_wine.drop(df_train.index)\n",
    "\n",
    "display(df_train.head(4))\n",
    "\n",
    "#Scale to [0, 1]\n",
    "max_ = df_train.max(axis=0)\n",
    "min_ = df_train.min(axis=0)\n",
    "df_train = (df_train - min_) / (max_ - min_)\n",
    "df_valid = (df_valid - min_) / (max_ - min_)\n",
    "\n",
    "# Split features and target\n",
    "X_train  = df_train.drop('quality', axis=1)\n",
    "X_valid = df_valid.drop('quality', axis=1)\n",
    "y_train = df_train['quality']\n",
    "y_valid = df_valid['quality']"
   ]
  },
  {
   "cell_type": "code",
   "execution_count": 7,
   "id": "68094de6",
   "metadata": {},
   "outputs": [
    {
     "name": "stdout",
     "output_type": "stream",
     "text": [
      "(1119, 11)\n"
     ]
    }
   ],
   "source": [
    "print(X_train.shape)"
   ]
  },
  {
   "cell_type": "markdown",
   "id": "9dcd7419",
   "metadata": {},
   "source": [
    "How many inputs should this network have? We can discover this by looking at the number of columns in the data matrix. Be sure not to include the target ('quality') here -- only the input features.\n",
    "Eleven columns means eleven inputs.\n",
    "\n",
    "We've chosen a three-layer network with over 1500 neurons. This network should be capable of learning fairly complex relationships in the data"
   ]
  },
  {
   "cell_type": "code",
   "execution_count": 8,
   "id": "5a94cd3e",
   "metadata": {},
   "outputs": [],
   "source": [
    "from tensorflow import keras\n",
    "from tensorflow.keras import layers\n",
    "\n",
    "model = keras.Sequential([\n",
    "    layers.Dense(512, activation='relu', input_shape=[11]),\n",
    "    layers.Dense(512, activation='relu'),\n",
    "    layers.Dense(512,activation='relu'),\n",
    "    layers.Dense(1),\n",
    "])"
   ]
  },
  {
   "cell_type": "markdown",
   "id": "6eaac8a9",
   "metadata": {},
   "source": [
    "Deciding the architecture of your model should be part of a process. Start simple and use the validation loss as your guide. You'll learn more about model development in the exercises.\n",
    "\n",
    "After defining the model, we compile in the optimizer and loss function."
   ]
  },
  {
   "cell_type": "code",
   "execution_count": 9,
   "id": "ac452113",
   "metadata": {},
   "outputs": [],
   "source": [
    "model.compile(\n",
    "optimizer='adam',\n",
    "loss='mae')"
   ]
  },
  {
   "cell_type": "markdown",
   "id": "ffa5d0d7",
   "metadata": {},
   "source": [
    "Now we're ready to start the training! We've told Keras to feed the optimizer 256 rows of the training data at a time (the batch_size) and to do that 10 times all the way through the dataset (the epochs)."
   ]
  },
  {
   "cell_type": "code",
   "execution_count": 11,
   "id": "bcd601c1",
   "metadata": {},
   "outputs": [
    {
     "name": "stdout",
     "output_type": "stream",
     "text": [
      "Epoch 1/10\n",
      "5/5 [==============================] - 20s 125ms/step - loss: 0.2766 - val_loss: 0.1346\n",
      "Epoch 2/10\n",
      "5/5 [==============================] - 0s 21ms/step - loss: 0.1422 - val_loss: 0.1220\n",
      "Epoch 3/10\n",
      "5/5 [==============================] - 0s 23ms/step - loss: 0.1236 - val_loss: 0.1181\n",
      "Epoch 4/10\n",
      "5/5 [==============================] - 0s 21ms/step - loss: 0.1167 - val_loss: 0.1082\n",
      "Epoch 5/10\n",
      "5/5 [==============================] - 0s 18ms/step - loss: 0.1110 - val_loss: 0.1091\n",
      "Epoch 6/10\n",
      "5/5 [==============================] - 0s 22ms/step - loss: 0.1075 - val_loss: 0.1034\n",
      "Epoch 7/10\n",
      "5/5 [==============================] - 0s 20ms/step - loss: 0.1047 - val_loss: 0.1062\n",
      "Epoch 8/10\n",
      "5/5 [==============================] - 0s 17ms/step - loss: 0.1034 - val_loss: 0.1022\n",
      "Epoch 9/10\n",
      "5/5 [==============================] - 0s 18ms/step - loss: 0.1026 - val_loss: 0.1008\n",
      "Epoch 10/10\n",
      "5/5 [==============================] - 0s 22ms/step - loss: 0.1007 - val_loss: 0.1019\n"
     ]
    }
   ],
   "source": [
    "history = model.fit(\n",
    "X_train, y_train, validation_data=(X_valid,y_valid),\n",
    "batch_size=256,\n",
    "epochs=10,\n",
    ")"
   ]
  },
  {
   "cell_type": "markdown",
   "id": "b70c6f6e",
   "metadata": {},
   "source": [
    "You can see that Keras will keep you updated on the loss as the model trains.\n",
    "\n",
    "Often, a better way to view the loss though is to plot it. The fit method in fact keeps a record of the loss produced during training in a History object. We'll convert the data to a Pandas dataframe, which makes the plotting easy."
   ]
  },
  {
   "cell_type": "code",
   "execution_count": 14,
   "id": "4db9728f",
   "metadata": {},
   "outputs": [
    {
     "data": {
      "text/plain": [
       "<AxesSubplot:>"
      ]
     },
     "execution_count": 14,
     "metadata": {},
     "output_type": "execute_result"
    },
    {
     "data": {
      "image/png": "[encoded data removed]",
      "text/plain": [
       "<Figure size 432x288 with 1 Axes>"
      ]
     },
     "metadata": {
      "needs_background": "light"
     },
     "output_type": "display_data"
    }
   ],
   "source": [
    "import pandas as pd\n",
    "\n",
    "# convert the training history to dataframe\n",
    "history_df = pd.DataFrame(history.history)\n",
    "# use pandas to native plot method\n",
    "history_df['loss'].plot()"
   ]
  },
  {
   "cell_type": "markdown",
   "id": "eb74f6cd",
   "metadata": {},
   "source": [
    "# OVERFITTING AND UNDERFITTING"
   ]
  },
  {
   "cell_type": "markdown",
   "id": "87494e54",
   "metadata": {},
   "source": [
    "Recall from the example in the previous lesson that Keras will keep a history of the training and validation loss over the epochs that it is training the model. In this lesson, we're going to learn how to interpret these learning curves and how we can use them to guide model development. In particular, we'll examine at the learning curves for evidence of underfitting and overfitting and look at a couple of strategies for correcting it.\n",
    "\n",
    "### Interpreting the Learning Curves\n",
    "You might think about the information in the training data as being of two kinds: signal and noise. The signal is the part that generalizes, the part that can help our model make predictions from new data. The noise is that part that is only true of the training data; the noise is all of the random fluctuation that comes from data in the real-world or all of the incidental, non-informative patterns that can't actually help the model make predictions. The noise is the part might look useful but really isn't.\n",
    "\n",
    "We train a model by choosing weights or parameters that minimize the loss on a training set. You might know, however, that to accurately assess a model's performance, we need to evaluate it on a new set of data, the validation data. (You could see our lesson on model validation in Introduction to Machine Learning for a review.)\n",
    "\n",
    "When we train a model we've been plotting the loss on the training set epoch by epoch. To this we'll add a plot the validation data too. These plots we call the learning curves. To train deep learning models effectively, we need to be able to interpret them\n",
    "\n",
    "https://storage.googleapis.com/kaggle-media/learn/images/tHiVFnM.png\n"
   ]
  },
  {
   "cell_type": "markdown",
   "id": "798e5742",
   "metadata": {},
   "source": [
    "The validation loss gives an estimate of the expected error on unseen data.\n",
    "\n",
    "Now, the training loss will go down either when the model learns signal or when it learns noise. But the validation loss will go down only when the model learns signal. (Whatever noise the model learned from the training set won't generalize to new data.) So, when a model learns signal both curves go down, but when it learns noise a gap is created in the curves. The size of the gap tells you how much noise the model has learned.\n",
    "\n",
    "Ideally, we would create models that learn all of the signal and none of the noise. This will practically never happen. Instead we make a trade. We can get the model to learn more signal at the cost of learning more noise. So long as the trade is in our favor, the validation loss will continue to decrease. After a certain point, however, the trade can turn against us, the cost exceeds the benefit, and the validation loss begins to rise.\n",
    "\n"
   ]
  },
  {
   "cell_type": "markdown",
   "id": "6027b4d7",
   "metadata": {},
   "source": [
    "##### Visual Representation of Underfitting and Overfitting\n",
    "\n",
    "https://storage.googleapis.com/kaggle-media/learn/images/eUF6mfo.png"
   ]
  },
  {
   "cell_type": "markdown",
   "id": "a961eae2",
   "metadata": {},
   "source": [
    "This trade-off indicates that there can be two problems that occur when training a model: not enough signal or too much noise. Underfitting the training set is when the loss is not as low as it could be because the model hasn't learned enough signal. Overfitting the training set is when the loss is not as low as it could be because the model learned too much noise. The trick to training deep learning models is finding the best balance between the two.\n",
    "\n",
    "We'll look at a couple ways of getting more signal out of the training data while reducing the amount of noise.\n",
    "\n"
   ]
  },
  {
   "cell_type": "markdown",
   "id": "fd240c97",
   "metadata": {},
   "source": [
    "### Capacity\n",
    "A model's capacity refers to the size and complexity of the patterns it is able to learn. For neural networks, this will largely be determined by how many neurons it has and how they are connected together. If it appears that your network is underfitting the data, you should try increasing its capacity.\n",
    "\n",
    "You can increase the capacity of a network either by making it wider (more units to existing layers) or by making it deeper (adding more layers). Wider networks have an easier time learning more linear relationships, while deeper networks prefer more nonlinear ones. Which is better just depends on the dataset.\n",
    "\n"
   ]
  },
  {
   "cell_type": "code",
   "execution_count": 16,
   "id": "da6ba816",
   "metadata": {},
   "outputs": [],
   "source": [
    "model = keras.Sequential([\n",
    "    layers.Dense(16, activation='relu'),\n",
    "    layers.Dense(1),\n",
    "])\n",
    "\n",
    "wider = keras.Sequential([\n",
    "    layers.Dense(32, activation='relu'),\n",
    "    layers.Dense(1),\n",
    "])\n",
    "\n",
    "deeper = keras.Sequential([\n",
    "    layers.Dense(16, activation='relu'),\n",
    "    layers.Dense(16, activation='relu'),\n",
    "    layers.Dense(1),\n",
    "])\n",
    " \n",
    "# You'll explore how the capacity of a network can affect its performance in the exercise."
   ]
  },
  {
   "cell_type": "markdown",
   "id": "1fbd8952",
   "metadata": {},
   "source": [
    "### Early Stopping\n",
    "We mentioned that when a model is too eagerly learning noise, the validation loss may start to increase during training. To prevent this, we can simply stop the training whenever it seems the validation loss isn't decreasing anymore. Interrupting the training this way is called early stopping.\n",
    "Follow the visual implementation:\n",
    "https://storage.googleapis.com/kaggle-media/learn/images/eP0gppr.png\n"
   ]
  },
  {
   "cell_type": "markdown",
   "id": "06fcaf67",
   "metadata": {},
   "source": [
    "Once we detect that the validation loss is starting to rise again, we can reset the weights back to where the minimum occured. This ensures that the model won't continue to learn noise and overfit the data.\n",
    "\n",
    "Training with early stopping also means we're in less danger of stopping the training too early, before the network has finished learning signal. So besides preventing overfitting from training too long, early stopping can also prevent underfitting from not training long enough. Just set your training epochs to some large number (more than you'll need), and early stopping will take care of the rest.\n",
    "\n"
   ]
  },
  {
   "cell_type": "markdown",
   "id": "a033e86f",
   "metadata": {},
   "source": [
    "### Adding Early Stopping\n",
    "In Keras, we include early stopping in our training through a callback. A callback is just a function you want run every so often while the network trains. The early stopping callback will run after every epoch. (Keras has a variety of useful callbacks pre-defined, but you can define your own, too.)"
   ]
  },
  {
   "cell_type": "code",
   "execution_count": null,
   "id": "dcc0285c",
   "metadata": {},
   "outputs": [
    {
     "name": "stdout",
     "output_type": "stream",
     "text": [
      "Collecting tensorrt\n",
      "  Using cached tensorrt-8.6.1.tar.gz (16 kB)\n",
      "  Preparing metadata (setup.py) ... \u001b[?25ldone\n",
      "\u001b[?25hBuilding wheels for collected packages: tensorrt\n",
      "  Building wheel for tensorrt (setup.py) ... \u001b[?25l\\"
     ]
    }
   ],
   "source": [
    "pip install tensorrt"
   ]
  },
  {
   "cell_type": "code",
   "execution_count": 27,
   "id": "922cb1c7",
   "metadata": {},
   "outputs": [],
   "source": [
    "from tensorflow.keras.callbacks import EarlyStopping\n",
    "\n",
    "early_stopping = EarlyStopping(\n",
    "min_delta = 0.001, #minimum amount of change to count as improvement,\n",
    "patience = 20, #how many epochs to wait before stopping,\n",
    "restore_best_weights=True,\n",
    ")"
   ]
  },
  {
   "cell_type": "markdown",
   "id": "776c2650",
   "metadata": {},
   "source": [
    "These parameters say: \"If there hasn't been at least an improvement of 0.001 in the validation loss over the previous 20 epochs, then stop the training and keep the best model you found.\" It can sometimes be hard to tell if the validation loss is rising due to overfitting or just due to random batch variation. The parameters allow us to set some allowances around when to stop.\n",
    "\n",
    "As we'll see in our example, we'll pass this callback to the fit method along with the loss and optimizer.\n",
    "\n"
   ]
  },
  {
   "cell_type": "markdown",
   "id": "1ed9c951",
   "metadata": {},
   "source": [
    "Example - Train a Model with Early Stopping\n",
    "Let's continue developing the model from the example in the last tutorial. We'll increase the capacity of that network but also add an early-stopping callback to prevent overfitting.\n",
    "\n",
    "Here's the data prep again."
   ]
  },
  {
   "cell_type": "code",
   "execution_count": 22,
   "id": "af26a89e",
   "metadata": {},
   "outputs": [
    {
     "data": {
      "text/html": [
       "<div>\n",
       "<style scoped>\n",
       "    .dataframe tbody tr th:only-of-type {\n",
       "        vertical-align: middle;\n",
       "    }\n",
       "\n",
       "    .dataframe tbody tr th {\n",
       "        vertical-align: top;\n",
       "    }\n",
       "\n",
       "    .dataframe thead th {\n",
       "        text-align: right;\n",
       "    }\n",
       "</style>\n",
       "<table border=\"1\" class=\"dataframe\">\n",
       "  <thead>\n",
       "    <tr style=\"text-align: right;\">\n",
       "      <th></th>\n",
       "      <th>fixed acidity</th>\n",
       "      <th>volatile acidity</th>\n",
       "      <th>citric acid</th>\n",
       "      <th>residual sugar</th>\n",
       "      <th>chlorides</th>\n",
       "      <th>free sulfur dioxide</th>\n",
       "      <th>total sulfur dioxide</th>\n",
       "      <th>density</th>\n",
       "      <th>pH</th>\n",
       "      <th>sulphates</th>\n",
       "      <th>alcohol</th>\n",
       "      <th>quality</th>\n",
       "    </tr>\n",
       "  </thead>\n",
       "  <tbody>\n",
       "    <tr>\n",
       "      <th>1109</th>\n",
       "      <td>10.8</td>\n",
       "      <td>0.470</td>\n",
       "      <td>0.43</td>\n",
       "      <td>2.10</td>\n",
       "      <td>0.171</td>\n",
       "      <td>27.0</td>\n",
       "      <td>66.0</td>\n",
       "      <td>0.99820</td>\n",
       "      <td>3.17</td>\n",
       "      <td>0.76</td>\n",
       "      <td>10.8</td>\n",
       "      <td>6</td>\n",
       "    </tr>\n",
       "    <tr>\n",
       "      <th>1032</th>\n",
       "      <td>8.1</td>\n",
       "      <td>0.820</td>\n",
       "      <td>0.00</td>\n",
       "      <td>4.10</td>\n",
       "      <td>0.095</td>\n",
       "      <td>5.0</td>\n",
       "      <td>14.0</td>\n",
       "      <td>0.99854</td>\n",
       "      <td>3.36</td>\n",
       "      <td>0.53</td>\n",
       "      <td>9.6</td>\n",
       "      <td>5</td>\n",
       "    </tr>\n",
       "    <tr>\n",
       "      <th>1002</th>\n",
       "      <td>9.1</td>\n",
       "      <td>0.290</td>\n",
       "      <td>0.33</td>\n",
       "      <td>2.05</td>\n",
       "      <td>0.063</td>\n",
       "      <td>13.0</td>\n",
       "      <td>27.0</td>\n",
       "      <td>0.99516</td>\n",
       "      <td>3.26</td>\n",
       "      <td>0.84</td>\n",
       "      <td>11.7</td>\n",
       "      <td>7</td>\n",
       "    </tr>\n",
       "    <tr>\n",
       "      <th>487</th>\n",
       "      <td>10.2</td>\n",
       "      <td>0.645</td>\n",
       "      <td>0.36</td>\n",
       "      <td>1.80</td>\n",
       "      <td>0.053</td>\n",
       "      <td>5.0</td>\n",
       "      <td>14.0</td>\n",
       "      <td>0.99820</td>\n",
       "      <td>3.17</td>\n",
       "      <td>0.42</td>\n",
       "      <td>10.0</td>\n",
       "      <td>6</td>\n",
       "    </tr>\n",
       "  </tbody>\n",
       "</table>\n",
       "</div>"
      ],
      "text/plain": [
       "      fixed acidity  volatile acidity  citric acid  residual sugar  chlorides  \\\n",
       "1109           10.8             0.470         0.43            2.10      0.171   \n",
       "1032            8.1             0.820         0.00            4.10      0.095   \n",
       "1002            9.1             0.290         0.33            2.05      0.063   \n",
       "487            10.2             0.645         0.36            1.80      0.053   \n",
       "\n",
       "      free sulfur dioxide  total sulfur dioxide  density    pH  sulphates  \\\n",
       "1109                 27.0                  66.0  0.99820  3.17       0.76   \n",
       "1032                  5.0                  14.0  0.99854  3.36       0.53   \n",
       "1002                 13.0                  27.0  0.99516  3.26       0.84   \n",
       "487                   5.0                  14.0  0.99820  3.17       0.42   \n",
       "\n",
       "      alcohol  quality  \n",
       "1109     10.8        6  \n",
       "1032      9.6        5  \n",
       "1002     11.7        7  \n",
       "487      10.0        6  "
      ]
     },
     "metadata": {},
     "output_type": "display_data"
    }
   ],
   "source": [
    "import pandas as pd\n",
    "from IPython.display import display\n",
    "\n",
    "red_wine = pd.read_csv('./red-wine.csv')\n",
    "\n",
    "# Create training and validation splits\n",
    "df_train = red_wine.sample(frac=0.7, random_state=0)\n",
    "df_valid = red_wine.drop(df_train.index)\n",
    "display(df_train.head(4))\n",
    "\n",
    "# Scale to [0, 1]\n",
    "max_ = df_train.max(axis=0)\n",
    "min_ = df_train.min(axis=0)\n",
    "df_train = (df_train - min_) / (max_ - min_)\n",
    "df_valid = (df_valid - min_) / (max_ - min_)\n",
    "\n",
    "# Split features and target\n",
    "X_train = df_train.drop('quality', axis=1)\n",
    "X_valid = df_valid.drop('quality', axis=1)\n",
    "y_train = df_train['quality']\n",
    "y_valid = df_valid['quality']"
   ]
  },
  {
   "cell_type": "markdown",
   "id": "3b4f6c70",
   "metadata": {},
   "source": [
    "Now let's increase the capacity of the network. We'll go for a fairly large network, but rely on the callback to halt the training once the validation loss shows signs of increasing."
   ]
  },
  {
   "cell_type": "code",
   "execution_count": 23,
   "id": "05855fdf",
   "metadata": {},
   "outputs": [],
   "source": [
    "from tensorflow import keras\n",
    "from tensorflow.keras import layers, callbacks\n",
    "\n",
    "early_stopping = callbacks.EarlyStopping(\n",
    "min_delta=0.001,\n",
    "patience=20,\n",
    "restore_best_weights=True,)\n",
    "\n",
    "\n",
    "model = keras.Sequential([\n",
    "    layers.Dense(512, activation='relu', input_shape=[11]),\n",
    "    layers.Dense(512, activation='relu'),\n",
    "    layers.Dense(512, activation='relu'),\n",
    "    layers.Dense(1),\n",
    "])\n",
    "model.compile(\n",
    "    optimizer='adam',\n",
    "    loss='mae',\n",
    ")\n",
    "\n"
   ]
  },
  {
   "cell_type": "markdown",
   "id": "c253edbf",
   "metadata": {},
   "source": [
    "After defining the callback, add it as an argument in fit (you can have several, so put it in a list). Choose a large number of epochs when using early stopping, more than you'll need."
   ]
  },
  {
   "cell_type": "code",
   "execution_count": 24,
   "id": "e824a16c",
   "metadata": {},
   "outputs": [
    {
     "name": "stdout",
     "output_type": "stream",
     "text": [
      "Minimum validation loss: 0.09144680947065353\n"
     ]
    },
    {
     "data": {
      "image/png": "[encoded data removed]",
      "text/plain": [
       "<Figure size 432x288 with 1 Axes>"
      ]
     },
     "metadata": {
      "needs_background": "light"
     },
     "output_type": "display_data"
    }
   ],
   "source": [
    "history = model.fit(\n",
    "    X_train, y_train,\n",
    "    validation_data=(X_valid, y_valid),\n",
    "    batch_size=256,\n",
    "    epochs=500,\n",
    "    callbacks=[early_stopping], # put your callbacks in a list\n",
    "    verbose=0,  # turn off training log\n",
    ")\n",
    "\n",
    "history_df = pd.DataFrame(history.history)\n",
    "history_df.loc[:, ['loss', 'val_loss']].plot();\n",
    "print(\"Minimum validation loss: {}\".format(history_df['val_loss'].min()))"
   ]
  },
  {
   "cell_type": "code",
   "execution_count": null,
   "id": "ba8cf613",
   "metadata": {},
   "outputs": [],
   "source": []
  }
 ],
 "metadata": {
  "kernelspec": {
   "display_name": "Python 3 (ipykernel)",
   "language": "python",
   "name": "python3"
  },
  "language_info": {
   "codemirror_mode": {
    "name": "ipython",
    "version": 3
   },
   "file_extension": ".py",
   "mimetype": "text/x-python",
   "name": "python",
   "nbconvert_exporter": "python",
   "pygments_lexer": "ipython3",
   "version": "3.10.12"
  }
 },
 "nbformat": 4,
 "nbformat_minor": 5
}
