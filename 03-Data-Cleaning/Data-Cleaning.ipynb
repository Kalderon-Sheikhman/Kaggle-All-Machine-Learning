{
 "cells": [
  {
   "cell_type": "markdown",
   "id": "320e26f3",
   "metadata": {},
   "source": [
    "# DATA CLEANING\n",
    "Welcome to the Data Cleaning course on Kaggle Learn!\n",
    "\n",
    "Data cleaning is a key part of data science, but it can be deeply frustrating. Why are some of your text fields garbled? What should you do about those missing values? Why aren’t your dates formatted correctly? How can you quickly clean up inconsistent data entry? In this course, you'll learn why you've run into these problems and, more importantly, how to fix them!\n",
    "\n",
    "In this course, you’ll learn how to tackle some of the most common data cleaning problems so you can get to actually analyzing your data faster. You’ll work through five hands-on exercises with real, messy data and answer some of your most commonly-asked data cleaning questions.\n",
    "\n",
    "In this notebook, we'll look at how to deal with missing values.\n",
    "\n"
   ]
  },
  {
   "cell_type": "markdown",
   "id": "07eb3ca7",
   "metadata": {},
   "source": [
    "## Take A First Look At Data\n",
    "The first thing we'll need to do is load in the libraries and dataset we'll be using.\n",
    "\n"
   ]
  },
  {
   "cell_type": "code",
   "execution_count": 1,
   "id": "ea5afb90",
   "metadata": {},
   "outputs": [
    {
     "name": "stderr",
     "output_type": "stream",
     "text": [
      "/tmp/ipykernel_155720/4064272800.py:4: DtypeWarning: Columns (25,51) have mixed types. Specify dtype option on import or set low_memory=False.\n",
      "  nfl_stats = pd.read_csv('/home/kduah/Desktop/ML/03-Data-Cleaning/NFL Play by Play 2009-2017 (v4).csv')\n"
     ]
    }
   ],
   "source": [
    "import pandas as pd\n",
    "import numpy as np\n",
    "\n",
    "nfl_stats = pd.read_csv('/home/kduah/Desktop/ML/03-Data-Cleaning/NFL Play by Play 2009-2017 (v4).csv')"
   ]
  },
  {
   "cell_type": "code",
   "execution_count": null,
   "id": "bc8f8228",
   "metadata": {},
   "outputs": [],
   "source": []
  },
  {
   "cell_type": "code",
   "execution_count": null,
   "id": "2bed78ee",
   "metadata": {},
   "outputs": [],
   "source": []
  }
 ],
 "metadata": {
  "kernelspec": {
   "display_name": "Python 3 (ipykernel)",
   "language": "python",
   "name": "python3"
  },
  "language_info": {
   "codemirror_mode": {
    "name": "ipython",
    "version": 3
   },
   "file_extension": ".py",
   "mimetype": "text/x-python",
   "name": "python",
   "nbconvert_exporter": "python",
   "pygments_lexer": "ipython3",
   "version": "3.10.6"
  }
 },
 "nbformat": 4,
 "nbformat_minor": 5
}
