{
 "cells": [
  {
   "cell_type": "markdown",
   "id": "9b4f0041",
   "metadata": {},
   "source": [
    "# GETTING STARTED WITH SQL AND BIG QUERY"
   ]
  },
  {
   "cell_type": "markdown",
   "id": "82e4031c",
   "metadata": {},
   "source": [
    "# Introduction\n",
    "\n",
    "Structured Query Language, or SQL, is the programming language used with databases, and it is an important skill for any data scientist. In this course, you'll build your SQL skills using BigQuery, a web service that lets you apply SQL to huge datasets.\n",
    "\n",
    "In this lesson, you'll learn the basics of accessing and examining BigQuery datasets. After you have a handle on these basics, we'll come back to build your SQL skills."
   ]
  },
  {
   "cell_type": "markdown",
   "id": "1aa46623",
   "metadata": {},
   "source": [
    "## YOUR FIRST BIG QUERY COMMANDS\n",
    "\n",
    "In this we will import the bigquery python package"
   ]
  },
  {
   "cell_type": "code",
   "execution_count": 1,
   "id": "866395f3",
   "metadata": {},
   "outputs": [],
   "source": [
    "from google.cloud import bigquery"
   ]
  },
  {
   "cell_type": "markdown",
   "id": "366dbf7d",
   "metadata": {},
   "source": [
    "The first step in the workflow is to create a Client object. As you'll soon see, this Client object will play a central role in retrieving information from BigQuery datasets."
   ]
  },
  {
   "cell_type": "code",
   "execution_count": 4,
   "id": "3237f6cf",
   "metadata": {},
   "outputs": [],
   "source": [
    "# create a client object\n",
    "client = bigquery.Client()"
   ]
  },
  {
   "cell_type": "markdown",
   "id": "7ed6d5df-65ab-416f-af22-32b0b518fe07",
   "metadata": {},
   "source": [
    "\n",
    "\n",
    "Using Kaggle's public dataset BigQuery integration.\n",
    "\n",
    "We'll work with a dataset of posts on Hacker News, a website focusing on computer science and cybersecurity news.\n",
    "\n",
    "In BigQuery, each dataset is contained in a corresponding project. In this case, our hacker_news dataset is contained in the bigquery-public-data project. To access the dataset,\n",
    "\n",
    "    We begin by constructing a reference to the dataset with the dataset() method.\n",
    "    Next, we use the get_dataset() method, along with the reference we just constructed, to fetch the dataset.\n",
    "\n"
   ]
  },
  {
   "cell_type": "code",
   "execution_count": 8,
   "id": "a89020fc-ecb0-4c9f-92e0-c8ec7ca3fb62",
   "metadata": {},
   "outputs": [],
   "source": [
    "# Construct a reference to the \"hacker_news\" dataset\n",
    "dataset_ref = client.dataset(\"hacker_news\", project=\"bigquery-public-data\")\n",
    "\n",
    "# API request - fetch the dataset\n",
    "dataset = client.get_dataset(dataset_ref)"
   ]
  },
  {
   "cell_type": "code",
   "execution_count": 13,
   "id": "123add9e-a7d4-43d0-9c1f-897983a3f2ce",
   "metadata": {},
   "outputs": [
    {
     "name": "stdout",
     "output_type": "stream",
     "text": [
      "full\n"
     ]
    }
   ],
   "source": [
    " #List all the tables in the \"hacker_news\" dataset\n",
    "tables = list(client.list_tables(dataset))\n",
    "\n",
    "# Print names of all tables in the dataset (there are four!)\n",
    "for table in tables:  \n",
    "    print(table.table_id)"
   ]
  },
  {
   "cell_type": "markdown",
   "id": "21b6781f-95dd-41c9-b6e6-6ea0583ce406",
   "metadata": {},
   "source": [
    "Similar to how we fetched a dataset, we can fetch a table. In the code cell below, we fetch the full table in the hacker_news dataset."
   ]
  },
  {
   "cell_type": "code",
   "execution_count": 14,
   "id": "4182a623-baca-46d2-a739-519541fad025",
   "metadata": {},
   "outputs": [],
   "source": [
    "# Construct a reference to the \"full\" table\n",
    "table_ref = dataset_ref.table(\"full\")\n",
    "\n",
    "# API request - fetch the table\n",
    "table = client.get_table(table_ref)"
   ]
  },
  {
   "cell_type": "markdown",
   "id": "c21e1e8a-ef67-4e51-8bf4-1a55cb4f39f1",
   "metadata": {},
   "source": [
    "In the next section, you'll explore the contents of this table in more detail. For now, take the time to use the image below to consolidate what you've learned so far."
   ]
  },
  {
   "cell_type": "markdown",
   "id": "b31829c3-c788-474c-8923-02afbafda105",
   "metadata": {},
   "source": [
    "#  Table schema\n",
    "\n",
    "The structure of a table is called its schema. We need to understand a table's schema to effectively pull out the data we want.\n",
    "\n",
    "In this example, we'll investigate the full table that we fetched above.\n"
   ]
  },
  {
   "cell_type": "code",
   "execution_count": null,
   "id": "d9ff1b32-00ba-4391-ab9b-ad98c780a627",
   "metadata": {},
   "outputs": [],
   "source": [
    "# Print all information on the columns in the full \n",
    "table.schema()"
   ]
  }
 ],
 "metadata": {
  "kernelspec": {
   "display_name": "Python 3 (ipykernel)",
   "language": "python",
   "name": "python3"
  },
  "language_info": {
   "codemirror_mode": {
    "name": "ipython",
    "version": 3
   },
   "file_extension": ".py",
   "mimetype": "text/x-python",
   "name": "python",
   "nbconvert_exporter": "python",
   "pygments_lexer": "ipython3",
   "version": "3.10.12"
  }
 },
 "nbformat": 4,
 "nbformat_minor": 5
}
